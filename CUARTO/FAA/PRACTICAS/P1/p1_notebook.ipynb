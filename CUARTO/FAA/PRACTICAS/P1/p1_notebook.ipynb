{
 "cells": [
  {
   "cell_type": "markdown",
   "metadata": {},
   "source": [
    "<h1>Practica 1: Particionado y Naive Bayes</h1>\n",
    "    \n",
    "Practica realizada por Tomas Higuera Viso y Alejandro Naranjo Jimenez\n",
    "\n",
    "Primero importamos todas las librerias que vamos a utilizar\n"
   ]
  },
  {
   "cell_type": "code",
   "execution_count": 1,
   "metadata": {},
   "outputs": [],
   "source": [
    "from sklearn import preprocessing\n",
    "from sklearn.naive_bayes import GaussianNB\n",
    "from sklearn.naive_bayes import MultinomialNB\n",
    "from sklearn.model_selection import train_test_split\n",
    "from sklearn.model_selection import KFold\n",
    "from sklearn.model_selection import cross_val_score\n",
    "from IPython.display import *\n",
    "from roc import *\n",
    "from Datos import Datos\n",
    "import numpy as np\n",
    "import Clasificador\n",
    "import EstrategiaParticionado"
   ]
  },
  {
   "cell_type": "markdown",
   "metadata": {},
   "source": [
    "<h2>Particionado</h2>\n",
    "\n",
    "En esta parte analizaremos los dos modos de particionamineto propuestos, simple y cruzado, para los tres conjuntos de datos propuestos, lenses, german y tic-tac-toe. Para realizar el analisis se mostrara los indices dedicados a train y a test en cada una de las particiones, asi como, se explicaran las ventajas y desventajas de cada particionamiento.\n"
   ]
  },
  {
   "cell_type": "code",
   "execution_count": 2,
   "metadata": {},
   "outputs": [],
   "source": [
    "data_tic=Datos('data/tic-tac-toe.data')\n",
    "data_german=Datos('data/german.data')\n",
    "data_lenses=Datos('data/lenses.data')"
   ]
  },
  {
   "cell_type": "markdown",
   "metadata": {},
   "source": [
    "<h3>Validacion simple</h3>\n",
    "\n",
    "En la validacion simple se dividen los datos en train y test para unos porcentajes especificos. Dedicaremos un 60% de los datos a train y el resto, un 40% a test.\n"
   ]
  },
  {
   "cell_type": "code",
   "execution_count": 3,
   "metadata": {},
   "outputs": [
    {
     "data": {
      "text/plain": [
       "[<EstrategiaParticionado.Particion at 0x7f0734f54f10>]"
      ]
     },
     "execution_count": 3,
     "metadata": {},
     "output_type": "execute_result"
    }
   ],
   "source": [
    "# Si queremos obtener los mismos resultados en las particiones sera necesario\n",
    "# que especifiquemos una semilla\n",
    "simple_tic=EstrategiaParticionado.ValidacionSimple(1, 60)\n",
    "simple_tic.creaParticiones(data_tic)\n",
    "\n",
    "simple_german=EstrategiaParticionado.ValidacionSimple(1, 60)\n",
    "simple_german.creaParticiones(data_german) \n",
    "\n",
    "simple_lenses=EstrategiaParticionado.ValidacionSimple(1, 60)\n",
    "simple_lenses.creaParticiones(data_lenses)\n",
    "\n",
    "# Cada una de estas lineas creara una particion simple de los datos\n",
    "# con un 60% de ellos dedicados a train y el resto a test"
   ]
  },
  {
   "cell_type": "markdown",
   "metadata": {},
   "source": [
    "A continuacion mostraremos los resultados obtenidos, que no son mas que los indices dedicados a train y a test.\n",
    "\n",
    "<h4>Particion Tic-tac-toe</h4>\n"
   ]
  },
  {
   "cell_type": "code",
   "execution_count": 4,
   "metadata": {
    "scrolled": false
   },
   "outputs": [
    {
     "name": "stdout",
     "output_type": "stream",
     "text": [
      "Particion tic-tac-toe: \n",
      "Indices train:\n",
      "[777 839 469 480 656 507   7 864 323 666 842 905 658 693 229 621 156 161\n",
      " 772 308  55 192 831 709 266 219 159 883 467 593 888 145 401 941 391  16\n",
      " 131 421 647 294 886 433 857 177 858 268 832 260 613 729 506 393 518 379\n",
      " 758 673 151 780 417 321 823 670 774 141 202 881 923 292 588 257 560 775\n",
      " 360 476 817 602 207 841 135 933 361 117 874 595 258 631 957  11 404 688\n",
      " 307 824 636 487 849 802 566 643  89 105 943 375 186 887 844 567 953 601\n",
      " 119  92 604 380 561 500 586 324 172 836 514  68 708 329 101 225  51 606\n",
      " 893 801 640 629 338 390 171 816 549 408 814 803 889 262 358 765 702 599\n",
      " 422 752 183 608 592 436 539 298 770 754 430 826 134 418  69 328 685  59\n",
      " 203 250 535 468 920 226 591 695 776 819 538 700 895 611 398 428 437  91\n",
      " 280 384 438 296 541 550  84 447 733 757 320  80 861 206 681 871  25 455\n",
      " 568 503 719 382 419 435 132 288 764 834 930 249 239 529 748  75 950 872\n",
      " 181 645 336 230 867 293 904 662 545 275  10 333 813 899 594  32  53 482\n",
      " 150 116 642 378 610 718 126 415 343 572 444 255 247 526 217 303 334 459\n",
      " 628 927 612 335 573 291 525 789 350 174 674 590 703 559 922 830 633 245\n",
      " 279 473 684 860 768 725 400 182 301 744 678 128 512  47  52 289  40 856\n",
      " 530 653  39 521 311 516  44 722 517 616 234  23 272 578 464 259 617 316\n",
      " 664 365 908 755 854 542 788  83 461 902 528 416 665 502 650 945 210 501\n",
      " 710 623 540 434 735 327 137 489 478 944 659  35 523 175 347   2 723   6\n",
      " 626 576 357  82 750 484 713 951 287 792 892 330 698 928 453 663 312 769\n",
      " 686 552 926 546 716 362 251 305 149 778 196 875 277 637 625 761 520 603\n",
      " 705 508 474 804 310 885 782 711 369  79 254 793 956 771  58 513 446  94\n",
      " 394 627 158 283 178 749 747 410 246 704 682 264 383 811 470  54  49 726\n",
      " 548  72 614 205 193 575 848 781 537  26 638 344 809 185 216 676 270 348\n",
      " 269  93 377 800 697 840 231 485 786 846 581 690 374 197 233 363 214 632\n",
      " 952 641 475 692  38 714 562 499 827 429 624 346 667 227 211 914 687 740\n",
      " 878 201 727 194 855 527 815 121 208 912  12 865 890 442  43 877 184 284\n",
      "  90 555 942 222  33 828 644 553 742 388 915  34 242  50 403 574   5 863\n",
      " 715 898 618  36 531 140 497 536 276 180 563  85  64 240 439 731  17 451\n",
      " 511 345 265 166 367 847 773 785  95  78 113 477 876  20 490 235 204 565\n",
      " 325 271 680 649  41 114 853 199 794 910 677 331 191 317 689  60 359 144\n",
      " 109 648  61 651  57 940 139 897 354 522 807 248 949 297 218 224]\n",
      "\n",
      "Indices test:\n",
      "[720 471 123 460 409 339 906 463 115 449 440 916 342 822 495 425 100  70\n",
      " 313 894 138  67 173 879 571 441 505 630  99 851 622 746 891 784 737 948\n",
      " 353 721 532 209  22 458 917 427 232 882 646 564 187 407 454 821 412 806\n",
      " 179   9 738 510 929 671  13 147  19 256 402 406 753 364   0 154 679 236\n",
      " 163 397  31 797 326 200 939 732 466 947 756   8 850 462 479 577 423  77\n",
      " 102 315 486 493 340 896 635 215 274 389 368  14 544 837 443 763 160 124\n",
      " 654 901  29 543 381 675 736 411 609 701  30  48 838 267  97 373 615 129\n",
      " 399 605 783 387 237  87 547 767 420 924 372  28 165 810 798 919 579 533\n",
      " 157 880 285 672 845 585 795 152 515 190 376 299 385 760 304 314 432  63\n",
      "  46 668  81 300 598  76 146 448  65  42 261 120  74 110 935 355 634  86\n",
      " 734 868 583 557 494 263 587 584 153 790 223 669 244 107 164 607 221 620\n",
      " 286 696 706 931 155 273 238 213  45 932 414 405 791 524 189 657 370 699\n",
      " 866 717 450 195 169  88 596 125 143 934 290 820 241 351  62 955 873 122\n",
      "  71 424 188 519 694 431 306 456 136  15 946 111 589 371 597 509 739 130\n",
      " 309 322 104 295 106 162 600 829 395 762 745 112 491 619 349 483 319 167\n",
      "  24 805 812   1 278 796 913 818 481 198  27 938 386 925  73 869 356 862\n",
      " 691 318 707 551 859 492 954 392 133 743  98 148  18 332 341 337 282 909\n",
      " 252 302 712 808 212 833  56 903 228 639 127  66 108 465   3  96 724 661\n",
      " 396 660 220 176 253 683  21 168 766  37 498 843 884 472 352 825 907 426\n",
      " 730 534 728 118 870 488 835 751 243 452 496 937 556 655 570 918 799 936\n",
      "   4 103 580 911 900 779 281 170 457 787 413 759 852 142 558 921 569 741\n",
      " 504 554 445 366 582 652]\n"
     ]
    }
   ],
   "source": [
    "print(\"Particion tic-tac-toe: \")\n",
    "print(\"Indices train:\")\n",
    "print(simple_tic.particiones[0].indicesTrain)\n",
    "print(\"\\nIndices test:\")\n",
    "print(simple_tic.particiones[0].indicesTest)"
   ]
  },
  {
   "cell_type": "markdown",
   "metadata": {},
   "source": [
    "<h4>Particion german<h4>"
   ]
  },
  {
   "cell_type": "code",
   "execution_count": 5,
   "metadata": {},
   "outputs": [
    {
     "name": "stdout",
     "output_type": "stream",
     "text": [
      "Particion german: \n",
      "Indices train:\n",
      "[563 313 126 351 373 967 638 637 593 509 299 478 255 975 582 608  63 578\n",
      " 852 226 389 598  81 794 254 816 798 364 120 441 553 696 972 140 607 944\n",
      " 480 679 547 938 558 886 957 404 171  44 891 927 330 203 987 665 960 543\n",
      " 855 996 700 528 778 626 589  39 216 601 272  22 145 698 555   6 682 172\n",
      " 180  88 621 790 988 820  46 705 288 942 443 349 571 803 347 269 458 363\n",
      " 986 597 383   0 516 411 323 585 861 451 446 450 780 468 181 196 890 713\n",
      " 470 614 324  38 484 454 710 284 153 253 664 305  54 645 936 182 912 640\n",
      " 722 405 283 935 848 746 137  42 132 952 647 715  60 673  15 616 130  20\n",
      " 631 483 460 174 380 225 984 488  74  17 201 164 945 377 736 342  50 487\n",
      " 772 428 961 100 754 903  18 652 584 830 185  80 108 447 138 573 636 686\n",
      " 788 550 871 646  11 613 950 294 265 420  51 744 981 799 609 712 462 178\n",
      " 793 666 394 267  94 767 312 345  47 395 169 399 118 810 192 845 815 442\n",
      " 693 808 417  75 536 753 497 302 776 838 257 729 634 173 801 864 221 863\n",
      " 819 651 805 228 251 311 469  71 541 508 728 326 475 158 110 775 532 198\n",
      " 210 128 387 490 105 179 829 166 594 202 787 518 439 156 209 477 681 685\n",
      " 239 327 376  62 424 348 352 599 611 630 233 911 426  27 343 781 121 494\n",
      " 823 335 825  61 262 699 811 336 365 724 413 167  23 900 408 575 112 766\n",
      " 649 813 472  21 197 427 195 618 930 817 603 921 831 670 947  73 865 737\n",
      " 250 362 539 307 730 200 279 125 997 708 410 131  99  48 714 809  40 677\n",
      " 315 591 828 370 643 792 103 109 170 731 734 874 687  96 511 860 111 958\n",
      " 711 301 274  28 502 701 917 406 971 261 842 885 762  98 444  35 456 689\n",
      " 506 535 241 768 948 303 430 414 372 264 765 183 725  30 293 953 507 135\n",
      " 839 258 884 751 560 821 782 350 604 187 706 328 807 704 905 655 907 918\n",
      " 610 777 333 162 785 674 433 595   1 540  10 271 263 642 949  33 512 498\n",
      " 564 514 309 368 998 457 459  31 738 771 445 144 577 586 113 461 576 479\n",
      " 580 101  58 252  49  84 760 104 602 824  43 909 141 916 273 757 690 297\n",
      " 561 298  93 402 397 697 369 379  65 415 570  68 653 242 676 588  78 833\n",
      " 872 123  13 499 818 496 867 684 882 740 127 177 552 562 412 692 147 723\n",
      " 733 213 923 378 791  14 319 832 463 639  83 959 204 835 503  64 212 358\n",
      " 862 124 211 510 548 199 449 291 745 375 691 574  25 592 286 522 983 129\n",
      " 840 968  16 846 106  76 485 892 572 354 620 513 974 163 107 222  59 346\n",
      " 360 600 688 985 759 629 913 937 887 244 476 924 680 880 633 465 270 524\n",
      " 615 325 418   4 384 876 992 806 850 437 175 151 774 741 340  69 371 505\n",
      " 133 565 980 438 769 152]\n",
      "\n",
      "Indices test:\n",
      "[295 619 908  90 165 193  26 868 385 875 154  34 658 896 190 969 617 492\n",
      " 308 716 779 668 344 898 367 644 331 622 382  55 549 568 902 386 662 899\n",
      " 581 495 804 933 881 826 353 230 453 624 277 419 789 231 259 519 206 388\n",
      " 355 300 523 606 159 247 888 956 735 287 515 538 168 482 435 219  45 889\n",
      " 963 783 943 289 102 999 934 854 747 755 142 991 304 422 941 764 191 822\n",
      " 802 544  89 314 215 232 310 545 220 797 359 431 432   9 421 337 115 474\n",
      "  57 249 982 207 205   7 940 866 551  66 928 939 275 931 525 229 393 160\n",
      "  12 721 836 148 448  56 440 409 914 742 906  77 194 119 184 761 654 660\n",
      " 812 150 290 739 520 590 859 260 970 366 632 990 296 849 628 237 827 534\n",
      " 218 554 672 245 883 993 501 491 703 556 139 841  36 894 248 814 188 973\n",
      " 929 423 246 122 641 964  92 361 236   2 748 675  70 429 517 381 214 322\n",
      "   3  91 268 732 521 612 671 773 756 186  32  85 752 932  29 587 493 391\n",
      " 278 648  24 134 904 256 719 946 925 223 526 717  67 877 663 605 796 533\n",
      " 117 915 995 858 627 702 356 625 569 843 878  53 659 400 869 853  87 893\n",
      " 851 870 976 718 416 425 977 176 149 464 786 161 189 650 339 157 962 471\n",
      " 683 707   8 901 321 542 837 116 282 208 669 398  86 926 979 657 281 285\n",
      " 155 280 392 895 758 334  72 489 635  79 989 566 557 530 341 965 504 623\n",
      " 873 114 954 529 396 332 390 146 306 559 844 537   5 750 897 266 316 743\n",
      " 596 466 452 486 317 955 879 243 224 749 920 784 329 800 579 763 567 678\n",
      " 709  52 238 436 978 217 143 695 656 481 338 726 727 500 374 318 357 770\n",
      " 546  41  19 227 403 434 994 667 847  37 527 951 661 694  97 234 910 407\n",
      " 136 922 467 966 235 401 240 320 473 857 276 531 292 856 720 834  82  95\n",
      " 919 455 583 795]\n"
     ]
    }
   ],
   "source": [
    "print(\"Particion german: \")\n",
    "print(\"Indices train:\")\n",
    "print(simple_german.particiones[0].indicesTrain)\n",
    "print(\"\\nIndices test:\")\n",
    "print(simple_german.particiones[0].indicesTest)"
   ]
  },
  {
   "cell_type": "markdown",
   "metadata": {},
   "source": [
    "<h4>Particion lenses</h4>"
   ]
  },
  {
   "cell_type": "code",
   "execution_count": 6,
   "metadata": {},
   "outputs": [
    {
     "name": "stdout",
     "output_type": "stream",
     "text": [
      "Particion lenses: \n",
      "Indices train:\n",
      "[12 13  1  8  2  4  6 21 18 11  5 16 23 20]\n",
      "\n",
      "Indices test:\n",
      "[ 0  7 14 22  3 19  9 10 17 15]\n"
     ]
    }
   ],
   "source": [
    "print(\"Particion lenses: \")\n",
    "print(\"Indices train:\")\n",
    "print(simple_lenses.particiones[0].indicesTrain)\n",
    "print(\"\\nIndices test:\")\n",
    "print(simple_lenses.particiones[0].indicesTest)"
   ]
  },
  {
   "cell_type": "markdown",
   "metadata": {},
   "source": [
    "<h4>Analisis de resultados</h4>\n",
    "\n",
    "Como se puede observar en los resultados, los indices dedicados a train son el 60% de los datos y los de test, el 40% de los datos. Esto se puede comprobar muy facilmente en la particion de lenses, que tiene 24 datos, 14 dedicados(0.6) a train y 10 dedicados a test(0.4).\n",
    "\n",
    "<h3>Validacion cruzada</h3>\n",
    "\n",
    "La validacion cruzada consiste en dividir los datos en k grupos, y uno de estos grupos se reserva para test y los k-1 se usan como train. Se evalua el modelo para predecir los resultados. Se realiza k veces, utilizando cada vez uno diferente para test y el resto para train."
   ]
  },
  {
   "cell_type": "code",
   "execution_count": 7,
   "metadata": {},
   "outputs": [
    {
     "data": {
      "text/plain": [
       "[<EstrategiaParticionado.Particion at 0x7f0734f54a10>,\n",
       " <EstrategiaParticionado.Particion at 0x7f0734f54650>,\n",
       " <EstrategiaParticionado.Particion at 0x7f0734f546d0>,\n",
       " <EstrategiaParticionado.Particion at 0x7f0734f54e50>,\n",
       " <EstrategiaParticionado.Particion at 0x7f0734f547d0>,\n",
       " <EstrategiaParticionado.Particion at 0x7f0734f54210>,\n",
       " <EstrategiaParticionado.Particion at 0x7f0734f54410>,\n",
       " <EstrategiaParticionado.Particion at 0x7f0734f54910>,\n",
       " <EstrategiaParticionado.Particion at 0x7f0734f54610>,\n",
       " <EstrategiaParticionado.Particion at 0x7f0734f54350>]"
      ]
     },
     "execution_count": 7,
     "metadata": {},
     "output_type": "execute_result"
    }
   ],
   "source": [
    "#Si queremos obtener los mismos resultados en las particiones sera necesario que especifiquemos una semilla\n",
    "cruzada_tic=EstrategiaParticionado.ValidacionCruzada(10)\n",
    "cruzada_tic.creaParticiones(data_tic)\n",
    "\n",
    "cruzada_german=EstrategiaParticionado.ValidacionCruzada(10)\n",
    "cruzada_german.creaParticiones(data_german) \n",
    "\n",
    "cruzada_lenses=EstrategiaParticionado.ValidacionCruzada(10)\n",
    "cruzada_lenses.creaParticiones(data_lenses)"
   ]
  },
  {
   "cell_type": "markdown",
   "metadata": {},
   "source": [
    "A continuacion mostraremos los resultados obtenidos, que no son mas que los indices dedicados a train y a test.\n",
    "\n",
    "<h4>Particion Tic-tac-toe</h4>"
   ]
  },
  {
   "cell_type": "code",
   "execution_count": 8,
   "metadata": {},
   "outputs": [
    {
     "name": "stdout",
     "output_type": "stream",
     "text": [
      "Particion tic-tac-toe: \n",
      "Indices train:\n",
      "[99, 356, 97, 254, 286, 276, 643, 659, 353, 319, 809, 711, 39, 618, 464, 569, 605, 474, 572, 20, 457, 400, 704, 847, 170, 211, 125, 137, 232, 592, 267, 241, 66, 37, 617, 261, 493, 790, 610, 529, 168, 814, 779, 192, 307, 620, 311, 53, 536, 808, 450, 303, 191, 883, 253, 619, 526, 702, 61, 198, 940, 415, 304, 645, 656, 271, 87, 590, 515, 395, 265, 327, 949, 586, 426, 830, 197, 289, 305, 549, 268, 269, 875, 524, 795, 722, 239, 41, 882, 799, 404, 806, 859, 156, 212, 75, 755, 516, 111, 916, 31, 49, 953, 409, 815, 377, 313, 193, 563, 899, 5, 631, 543, 112, 217, 614, 550, 863, 957, 776, 707, 890, 348, 419, 932, 298, 813, 462, 686, 841, 113, 675, 342, 110, 744, 919, 382, 485, 86, 844, 456, 791, 840, 507, 627, 724, 646, 783, 247, 151, 441, 542, 676, 698, 654, 180, 223, 435, 690, 140, 635, 95, 837, 499, 58, 184, 421, 343, 568, 761, 595, 130, 199, 909, 312, 754, 768, 537, 440, 849, 334, 860, 822, 244, 750, 948, 438, 804, 587, 570, 230, 219, 530, 227, 22, 424, 495, 773, 598, 864, 628, 387, 218, 163, 579, 748, 13, 571, 213, 465, 714, 626, 553, 725, 684, 73, 478, 504, 149, 622, 903, 502, 475, 397, 55, 926, 29, 246, 169, 258, 302, 544, 222, 509, 384, 497, 513, 667, 324, 805, 297, 412, 827, 145, 801, 881, 897, 604, 871, 126, 361, 248, 665, 505, 179, 629, 649, 915, 148, 775, 929, 810, 942, 918, 89, 532, 231, 687, 902, 634, 749, 379, 461, 552, 562, 329, 510, 17, 823, 792, 498, 858, 951, 621, 612, 535, 277, 260, 449, 121, 290, 366, 893, 186, 671, 346, 442, 310, 56, 315, 120, 107, 263, 429, 941, 816, 330, 341, 506, 143, 848, 765, 872, 905, 576, 548, 910, 838, 262, 326, 758, 821, 650, 891, 884, 291, 159, 165, 398, 488, 480, 716, 131, 593, 820, 35, 861, 764, 88, 8, 466, 710, 448, 134, 640, 512, 680, 282, 15, 385, 127, 490, 856, 84, 583, 46, 752, 236, 762, 674, 363, 935, 557, 927, 708, 445, 357, 432, 378, 787, 921, 738, 781, 895, 611, 42, 299, 777, 769, 158, 531, 209, 175, 388, 463, 74, 625, 944, 237, 257, 196, 115, 470, 853, 681, 40, 93, 797, 90, 278, 862, 405, 855, 322, 701, 295, 394, 166, 931, 688, 774, 685, 183, 454, 428, 554, 314, 566, 691, 733, 740, 293, 943, 154, 501, 48, 695, 104, 496, 616, 2, 418, 9, 123, 545, 354, 517, 468, 901, 522, 373, 561, 955, 128, 528, 906, 103, 521, 171, 828, 887, 459, 868, 574, 657, 796, 45, 518, 270, 662, 336, 718, 514, 760, 309, 273, 63, 174, 105, 203, 679, 533, 410, 825, 225, 64, 904, 54, 339, 460, 729, 381, 834, 1, 728, 338, 345, 641, 567, 472, 369, 194, 12, 7, 950, 132, 215, 812, 157, 736, 318, 116, 519, 947, 138, 609, 226, 425, 122, 16, 451, 292, 793, 399, 28, 658, 316, 800, 185, 411, 672, 436, 753, 380, 564, 187, 78, 38, 36, 102, 565, 892, 375, 739, 0, 811, 417, 331, 256, 444, 350, 235, 826, 580, 525, 819, 70, 250, 285, 923, 759, 275, 335, 91, 67, 956, 77, 730, 431, 284, 606, 669, 328, 886, 655, 279, 59, 229, 539, 259, 607, 162, 453, 661, 374, 358, 577, 832, 727, 715, 850, 894, 351, 869, 596, 109, 386, 68, 245, 177, 731, 224, 706, 636, 458, 477, 364, 721, 337, 757, 178, 786, 349, 508, 737, 575, 153, 50, 660, 632, 900, 368, 700, 833, 287, 306, 155, 82, 321, 735, 34, 481, 924, 613, 878, 666, 939, 818, 23, 653, 167, 396, 280, 751, 699, 296, 647, 206, 96, 25, 591, 851, 852, 340, 846, 393, 938, 756, 401, 372, 11, 332, 135, 420, 588, 371, 352, 221, 18, 952, 323, 83, 255, 60, 439, 147, 726, 173, 234, 150, 188, 201, 922, 556, 879, 266, 642, 785, 325, 3, 503, 423, 189, 880, 784, 551, 406, 842, 720, 24, 798, 69, 118, 437, 523, 734, 207, 14, 240, 767, 152, 885, 747, 912, 494, 367, 370, 839, 283, 390, 693, 780, 602, 413, 624, 946, 433, 216, 251, 703, 865, 479, 802, 831, 888, 907, 427, 344, 264, 249, 857, 527, 807, 594, 486, 934, 81, 877, 682, 678, 21, 559, 585, 582, 176, 320, 71, 32, 538, 19, 673, 483, 85, 106, 835, 376, 76, 898, 954, 500, 233, 214, 854, 546, 434, 359, 204, 723, 937, 874, 210, 913, 100, 80, 469, 79, 205, 866, 867, 648, 146, 589, 709, 447, 917, 208, 896, 482, 637, 581, 845, 677, 652, 772, 638, 745, 664, 824, 365, 383, 930, 446, 362, 300, 746, 392, 487, 789, 220, 741, 663, 119, 644, 30, 430, 452, 172, 670, 136, 829, 615, 782, 599, 62, 52, 843, 360, 228, 766, 705, 252, 160, 541, 743, 788, 742, 144, 697, 763, 57, 47, 633, 817, 719, 43, 301, 202, 26, 876, 243, 355, 416, 403, 294, 600, 473, 242, 945, 555, 771, 133, 717, 820, 122]\n",
      "\n",
      "Indices test:\n",
      "[558, 190, 422, 471, 238, 489, 668, 630, 534, 272, 288, 484, 114, 101, 182, 408, 778, 51, 601, 414, 274, 578, 317, 540, 692, 129, 142, 639, 936, 281, 455, 27, 476, 683, 124, 491, 389, 689, 492, 511, 573, 72, 164, 467, 33, 520, 347, 443, 139, 870, 911, 914, 10, 547, 794, 108, 407, 597, 94, 908, 391, 623, 92, 694, 181, 889, 928, 333, 925, 161, 651, 200, 603, 308, 402, 873, 836, 560, 584, 141, 920, 933, 98, 44, 195, 696, 65, 608, 4, 803, 6, 117, 732, 713, 770, 712]\n"
     ]
    }
   ],
   "source": [
    "print(\"Particion tic-tac-toe: \")\n",
    "print(\"Indices train:\")\n",
    "print(cruzada_tic.particiones[0].indicesTrain)\n",
    "print(\"\\nIndices test:\")\n",
    "print(cruzada_tic.particiones[0].indicesTest)"
   ]
  },
  {
   "cell_type": "markdown",
   "metadata": {},
   "source": [
    "<h4>Particion german<h4>"
   ]
  },
  {
   "cell_type": "code",
   "execution_count": 9,
   "metadata": {},
   "outputs": [
    {
     "name": "stdout",
     "output_type": "stream",
     "text": [
      "Particion german: \n",
      "Indices train:\n",
      "[937, 901, 738, 940, 418, 989, 183, 216, 841, 256, 293, 819, 430, 725, 115, 854, 699, 465, 400, 872, 601, 857, 244, 177, 708, 467, 36, 131, 821, 258, 853, 944, 585, 239, 337, 861, 884, 387, 647, 829, 187, 336, 224, 816, 729, 240, 501, 372, 10, 473, 178, 895, 295, 835, 765, 608, 248, 737, 552, 93, 329, 905, 357, 523, 158, 219, 691, 211, 527, 143, 268, 984, 189, 317, 11, 374, 363, 321, 153, 996, 823, 65, 123, 253, 499, 124, 37, 282, 382, 373, 280, 228, 292, 693, 25, 234, 175, 383, 830, 135, 191, 946, 917, 331, 90, 192, 289, 529, 469, 603, 959, 695, 52, 475, 717, 79, 632, 785, 883, 34, 595, 335, 159, 987, 762, 528, 371, 482, 652, 755, 464, 48, 294, 772, 928, 225, 368, 353, 262, 690, 838, 118, 876, 710, 927, 494, 73, 83, 223, 570, 957, 232, 18, 165, 581, 733, 739, 196, 588, 638, 664, 146, 510, 299, 607, 814, 991, 900, 116, 602, 5, 358, 951, 171, 16, 667, 714, 95, 736, 173, 438, 106, 516, 687, 868, 675, 534, 286, 21, 965, 300, 54, 1, 947, 862, 619, 184, 39, 795, 589, 354, 961, 561, 4, 125, 914, 881, 22, 756, 697, 349, 422, 709, 952, 214, 454, 167, 109, 522, 432, 741, 526, 312, 443, 700, 694, 485, 682, 966, 33, 801, 463, 677, 670, 172, 851, 298, 459, 434, 62, 746, 606, 394, 327, 971, 24, 899, 427, 926, 246, 551, 865, 288, 152, 32, 565, 757, 401, 931, 390, 680, 257, 617, 936, 696, 138, 41, 113, 648, 142, 338, 311, 70, 885, 237, 478, 780, 598, 26, 839, 560, 205, 896, 350, 460, 200, 424, 803, 916, 740, 923, 549, 385, 817, 403, 204, 867, 415, 60, 578, 893, 750, 579, 599, 932, 496, 562, 156, 59, 197, 407, 423, 820, 180, 594, 980, 804, 408, 712, 668, 809, 555, 519, 235, 624, 277, 794, 104, 495, 878, 13, 679, 646, 575, 275, 540, 486, 826, 563, 441, 904, 452, 369, 564, 297, 666, 391, 806, 547, 207, 870, 913, 213, 639, 474, 703, 933, 723, 994, 193, 108, 230, 532, 7, 261, 718, 764, 126, 789, 793, 657, 554, 466, 439, 324, 389, 310, 105, 545, 958, 786, 641, 433, 925, 31, 711, 822, 378, 828, 745, 628, 420, 864, 637, 15, 684, 543, 615, 217, 869, 84, 161, 779, 995, 333, 787, 470, 918, 302, 734, 669, 136, 404, 811, 873, 988, 154, 472, 147, 80, 879, 512, 907, 100, 332, 845, 471, 592, 539, 47, 340, 323, 477, 128, 185, 14, 768, 517, 929, 322, 979, 279, 227, 758, 442, 557, 263, 784, 245, 902, 345, 101, 775, 674, 410, 402, 364, 504, 692, 997, 203, 546, 743, 950, 616, 396, 110, 164, 964, 888, 887, 574, 190, 537, 505, 425, 774, 673, 889, 685, 751, 89, 376, 290, 426, 351, 566, 30, 968, 897, 530, 348, 448, 797, 490, 274, 716, 44, 633, 194, 121, 221, 284, 412, 558, 57, 405, 584, 640, 342, 379, 974, 435, 726, 531, 983, 212, 249, 306, 462, 352, 362, 906, 956, 78, 314, 97, 411, 513, 55, 451, 507, 186, 782, 94, 491, 852, 724, 276, 281, 658, 880, 46, 150, 919, 296, 858, 388, 260, 681, 525, 35, 450, 476, 802, 569, 571, 993, 535, 120, 898, 969, 542, 133, 715, 807, 334, 320, 82, 251, 119, 40, 370, 384, 409, 704, 199, 23, 943, 487, 163, 930, 132, 506, 127, 254, 609, 735, 882, 479, 665, 447, 429, 71, 347, 824, 625, 706, 243, 330, 456, 489, 12, 798, 967, 81, 825, 781, 72, 341, 377, 871, 77, 122, 508, 973, 536, 416, 663, 514, 548, 500, 621, 567, 236, 577, 145, 315, 962, 149, 87, 783, 618, 406, 270, 58, 229, 201, 511, 533, 752, 198, 318, 319, 0, 325, 877, 102, 449, 328, 999, 659, 148, 975, 671, 218, 808, 264, 515, 75, 107, 179, 195, 157, 445, 308, 393, 572, 210, 112, 837, 960, 614, 339, 151, 719, 215, 920, 233, 481, 480, 181, 266, 921, 610, 776, 265, 643, 453, 850, 753, 747, 596, 863, 361, 731, 360, 483, 238, 678, 986, 273, 520, 844, 976, 727, 791, 686, 502, 458, 8, 259, 98, 9, 69, 849, 796, 875, 763, 316, 111, 792, 380, 623, 629, 343, 63, 759, 51, 977, 833, 269, 644, 941, 846, 461, 518, 49, 99, 267, 672, 359, 860, 630, 982, 140, 356, 2, 130, 935, 428, 840, 938, 856, 283, 367, 287, 770, 713, 604, 509, 908, 386, 250, 176, 771, 45, 580, 922, 890, 892, 891, 790, 326, 174, 524, 848, 963, 91, 813, 202, 346, 255, 56, 800, 303, 20, 550, 38, 568, 627, 842, 903, 649, 748, 241, 777, 220, 732, 911, 285, 634, 955, 843, 103, 836, 307, 612, 874, 701, 720, 444, 611, 231, 53, 773, 155, 399, 812, 818, 805, 344, 395, 778, 754, 924, 170, 626, 96, 188, 689, 419, 74, 206, 414, 866, 313, 978, 593, 117, 620, 209, 166, 909, 705, 810, 28, 521, 855, 301, 68, 17, 945, 815, 144, 760, 309, 894, 992, 590, 749, 730, 653, 252, 19, 42, 942, 827, 702, 948, 573, 591, 468, 440, 226, 656, 366, 553, 834, 446, 721, 66, 645, 683, 64, 910, 655, 981, 676, 605, 392, 766, 635, 985, 722, 3, 162, 61, 134, 622]\n",
      "\n",
      "Indices test:\n",
      "[576, 832, 728, 949, 355, 271, 953, 43, 413, 436, 114, 76, 582, 6, 651, 272, 375, 88, 242, 915, 492, 707, 291, 934, 939, 650, 67, 970, 381, 831, 688, 457, 788, 998, 247, 600, 744, 278, 613, 544, 222, 50, 912, 168, 954, 972, 437, 642, 92, 597, 503, 493, 398, 631, 799, 29, 27, 304, 160, 417, 767, 484, 139, 421, 886, 769, 636, 365, 990, 397, 660, 654, 182, 541, 497, 587, 137, 488, 141, 431, 455, 129, 586, 559, 169, 305, 583, 662, 538, 859, 661, 556, 847, 85, 761, 742, 208, 86, 698, 498]\n"
     ]
    }
   ],
   "source": [
    "print(\"Particion german: \")\n",
    "print(\"Indices train:\")\n",
    "print(cruzada_german.particiones[0].indicesTrain)\n",
    "print(\"\\nIndices test:\")\n",
    "print(cruzada_german.particiones[0].indicesTest)"
   ]
  },
  {
   "cell_type": "markdown",
   "metadata": {},
   "source": [
    "<h4>Particion lenses</h4>"
   ]
  },
  {
   "cell_type": "code",
   "execution_count": 10,
   "metadata": {},
   "outputs": [
    {
     "name": "stdout",
     "output_type": "stream",
     "text": [
      "Particion lenses: \n",
      "Train index:\n",
      "[16, 19, 0, 12, 10, 7, 5, 18, 15, 11, 1, 14, 20, 6, 17, 2, 9, 4, 3, 21, 8, 15, 7, 0, 12, 9, 14]\n",
      "\n",
      "Test index:\n",
      "[22, 13, 23]\n",
      "Particion lenses: \n",
      "Train index:\n",
      "[22, 13, 23, 12, 10, 7, 5, 18, 15, 11, 1, 14, 20, 6, 17, 2, 9, 4, 3, 21, 8, 15, 7, 0, 12, 9, 14]\n",
      "\n",
      "Test index:\n",
      "[16, 19, 0]\n",
      "Particion lenses: \n",
      "Train index:\n",
      "[22, 13, 23, 16, 19, 0, 5, 18, 15, 11, 1, 14, 20, 6, 17, 2, 9, 4, 3, 21, 8, 15, 7, 0, 12, 9, 14]\n",
      "\n",
      "Test index:\n",
      "[12, 10, 7]\n",
      "Particion lenses: \n",
      "Train index:\n",
      "[22, 13, 23, 16, 19, 0, 12, 10, 7, 11, 1, 14, 20, 6, 17, 2, 9, 4, 3, 21, 8, 15, 7, 0, 12, 9, 14]\n",
      "\n",
      "Test index:\n",
      "[5, 18, 15]\n",
      "Particion lenses: \n",
      "Train index:\n",
      "[22, 13, 23, 16, 19, 0, 12, 10, 7, 5, 18, 15, 20, 6, 17, 2, 9, 4, 3, 21, 8, 15, 7, 0, 12, 9, 14]\n",
      "\n",
      "Test index:\n",
      "[11, 1, 14]\n",
      "Particion lenses: \n",
      "Train index:\n",
      "[22, 13, 23, 16, 19, 0, 12, 10, 7, 5, 18, 15, 11, 1, 14, 2, 9, 4, 3, 21, 8, 15, 7, 0, 12, 9, 14]\n",
      "\n",
      "Test index:\n",
      "[20, 6, 17]\n",
      "Particion lenses: \n",
      "Train index:\n",
      "[22, 13, 23, 16, 19, 0, 12, 10, 7, 5, 18, 15, 11, 1, 14, 20, 6, 17, 3, 21, 8, 15, 7, 0, 12, 9, 14]\n",
      "\n",
      "Test index:\n",
      "[2, 9, 4]\n",
      "Particion lenses: \n",
      "Train index:\n",
      "[22, 13, 23, 16, 19, 0, 12, 10, 7, 5, 18, 15, 11, 1, 14, 20, 6, 17, 2, 9, 4, 15, 7, 0, 12, 9, 14]\n",
      "\n",
      "Test index:\n",
      "[3, 21, 8]\n",
      "Particion lenses: \n",
      "Train index:\n",
      "[22, 13, 23, 16, 19, 0, 12, 10, 7, 5, 18, 15, 11, 1, 14, 20, 6, 17, 2, 9, 4, 3, 21, 8, 12, 9, 14]\n",
      "\n",
      "Test index:\n",
      "[15, 7, 0]\n",
      "Particion lenses: \n",
      "Train index:\n",
      "[22, 13, 23, 16, 19, 0, 12, 10, 7, 5, 18, 15, 11, 1, 14, 20, 6, 17, 2, 9, 4, 3, 21, 8, 15, 7, 0]\n",
      "\n",
      "Test index:\n",
      "[12, 9, 14]\n"
     ]
    }
   ],
   "source": [
    "j=0\n",
    "for i in cruzada_lenses.particiones:\n",
    "    print(\"Particion lenses: \")\n",
    "    print(\"Train index:\")\n",
    "    print(i.indicesTrain)\n",
    "    print(\"\\nTest index:\")\n",
    "    print(i.indicesTest)\n",
    "    j += 1"
   ]
  },
  {
   "cell_type": "markdown",
   "metadata": {},
   "source": [
    "Podemos comprobar que es un buen modelo de particion ya que hace todas las posibles combinaciones y se comprueban todos tanto en test como en train."
   ]
  },
  {
   "cell_type": "markdown",
   "metadata": {},
   "source": [
    "<h2>SKLERAN VS NUESTRA IMPLEMENTACION</h2>\n",
    "\n",
    "<h3> Validacion simple </h3>\n",
    "\n",
    "<h3>Tic tac toe sin la correcion de la place: <h3>\n"
   ]
  },
  {
   "cell_type": "code",
   "execution_count": 11,
   "metadata": {},
   "outputs": [
    {
     "name": "stdout",
     "output_type": "stream",
     "text": [
      "[0.30357142857142855, 0.28273809523809523, 0.3005952380952381, 0.3125, 0.2976190476190476]\n",
      "Media: 0.2994\n",
      "Desviación típica: 0.0097\n"
     ]
    }
   ],
   "source": [
    "estrategia = EstrategiaParticionado.ValidacionSimple(5, 65)\n",
    "clasificador_nb = Clasificador.ClasificadorNaiveBayes(False)\n",
    "error = clasificador_nb.validacion(estrategia,data_tic,clasificador_nb)\n",
    "print(error)\n",
    "print(\"Media: %.4f\" % np.mean(error))\n",
    "print(\"Desviación típica: %.4f\" % np.std(error))"
   ]
  },
  {
   "cell_type": "markdown",
   "metadata": {},
   "source": [
    " <h3> Tic tac toe con la correccion de laplace: <h3>"
   ]
  },
  {
   "cell_type": "code",
   "execution_count": 12,
   "metadata": {},
   "outputs": [
    {
     "name": "stdout",
     "output_type": "stream",
     "text": [
      "[0.2916666666666667, 0.25297619047619047, 0.2976190476190476, 0.2708333333333333, 0.2767857142857143]\n",
      "Media: 0.2780\n",
      "Desviación típica: 0.0158\n"
     ]
    }
   ],
   "source": [
    "estrategia_laplace = EstrategiaParticionado.ValidacionSimple(5, 65)\n",
    "clasificador_nb_laplace = Clasificador.ClasificadorNaiveBayes(True)\n",
    "error_laplace = clasificador_nb_laplace.validacion(estrategia_laplace,data_tic,clasificador_nb_laplace)\n",
    "print(error_laplace)\n",
    "print(\"Media: %.4f\" % np.mean(error_laplace))\n",
    "print(\"Desviación típica: %.4f\" % np.std(error_laplace))\n"
   ]
  },
  {
   "cell_type": "markdown",
   "metadata": {},
   "source": [
    "Ahora los resultados de SKLEARN"
   ]
  },
  {
   "cell_type": "code",
   "execution_count": 13,
   "metadata": {},
   "outputs": [
    {
     "name": "stderr",
     "output_type": "stream",
     "text": [
      "/home/tomas/anaconda3/lib/python3.7/site-packages/sklearn/preprocessing/_encoders.py:415: FutureWarning: The handling of integer data will change in version 0.22. Currently, the categories are determined based on the range [0, max(values)], while in the future they will be determined based on the unique values.\n",
      "If you want the future behaviour and silence this warning, you can specify \"categories='auto'\".\n",
      "In case you used a LabelEncoder before this OneHotEncoder to convert the categories to integers, then you can now use the OneHotEncoder directly.\n",
      "  warnings.warn(msg, FutureWarning)\n",
      "/home/tomas/anaconda3/lib/python3.7/site-packages/sklearn/preprocessing/_encoders.py:451: DeprecationWarning: The 'categorical_features' keyword is deprecated in version 0.20 and will be removed in 0.22. You can use the ColumnTransformer instead.\n",
      "  \"use the ColumnTransformer instead.\", DeprecationWarning)\n"
     ]
    }
   ],
   "source": [
    "# Encode categorical integer features using a one-hot aka one-of-K scheme (categorical features)\n",
    "encAtributos = preprocessing.OneHotEncoder(categorical_features=data_tic.nominalAtributos[:-1],sparse=False)\n",
    "X = encAtributos.fit_transform(data_tic.datos[:,:-1])\n",
    "Y = data_tic.datos[:,-1]\n",
    "x_train, x_test, y_train, y_test = train_test_split(X,Y,test_size=0.3)"
   ]
  },
  {
   "cell_type": "markdown",
   "metadata": {},
   "source": [
    "<h4>GaussianNB<h4>\n"
   ]
  },
  {
   "cell_type": "code",
   "execution_count": 14,
   "metadata": {},
   "outputs": [
    {
     "name": "stdout",
     "output_type": "stream",
     "text": [
      "Tasa de error: 0.3160\n"
     ]
    }
   ],
   "source": [
    "clf = GaussianNB()\n",
    "clf.fit(x_train, y_train)\n",
    "errores_gaussian = 1 - clf.score(x_test,y_test)\n",
    "print(\"Tasa de error: %.4f\" % errores_gaussian)"
   ]
  },
  {
   "cell_type": "markdown",
   "metadata": {},
   "source": [
    "<h4> MultinomialNB <h4>\n",
    "\n"
   ]
  },
  {
   "cell_type": "code",
   "execution_count": 15,
   "metadata": {},
   "outputs": [
    {
     "name": "stdout",
     "output_type": "stream",
     "text": [
      "Tasa de error: 0.3160\n"
     ]
    }
   ],
   "source": [
    "clf = MultinomialNB()\n",
    "clf.fit(x_train, y_train)\n",
    "errores_multinomial = 1 - clf.score(x_test,y_test)\n",
    "print(\"Tasa de error: %.4f\" % errores_multinomial)\n"
   ]
  },
  {
   "cell_type": "code",
   "execution_count": 16,
   "metadata": {},
   "outputs": [],
   "source": [
    "#Guardamos todo en una  tabla\n",
    "tabla_vs_tic = \"<table><tr><th>Nuestro NB (sin laplace)</th><th>Nuestro NB (con laplace)</th><th>Sklearn GaussianNB</th><th>Sklearn MultinomialNB</th></tr>\"\n",
    "tabla_vs_tic += \"<tr><td>%.4f ± %.4f</td>\" % (np.mean(error),np.std(error))\n",
    "tabla_vs_tic += \"<td>%.4f ± %.4f</td>\" % (np.mean(error_laplace),np.std(error_laplace))\n",
    "tabla_vs_tic += \"<td>%.4f</td>\" % (errores_gaussian)\n",
    "tabla_vs_tic += \"<td>%.4f</td></tr></table>\" % (errores_multinomial)"
   ]
  },
  {
   "cell_type": "markdown",
   "metadata": {},
   "source": [
    "<h3> German sin la correccion de Laplace <h3>"
   ]
  },
  {
   "cell_type": "code",
   "execution_count": 17,
   "metadata": {},
   "outputs": [
    {
     "name": "stdout",
     "output_type": "stream",
     "text": [
      "[0.2914285714285714, 0.24, 0.26, 0.26857142857142857, 0.2571428571428571]\n",
      "Media: 0.2634\n",
      "Desviación típica: 0.0168\n"
     ]
    }
   ],
   "source": [
    "estrategia = EstrategiaParticionado.ValidacionSimple(5, 65)\n",
    "clasificador_nb = Clasificador.ClasificadorNaiveBayes(False)\n",
    "error = clasificador_nb.validacion(estrategia,data_german,clasificador_nb)\n",
    "print(error)\n",
    "print(\"Media: %.4f\" % np.mean(error))\n",
    "print(\"Desviación típica: %.4f\" % np.std(error))"
   ]
  },
  {
   "cell_type": "markdown",
   "metadata": {},
   "source": [
    "<h3> German con la correcion de Laplace <h3>"
   ]
  },
  {
   "cell_type": "code",
   "execution_count": 18,
   "metadata": {},
   "outputs": [
    {
     "name": "stdout",
     "output_type": "stream",
     "text": [
      "[0.32857142857142857, 0.25142857142857145, 0.2542857142857143, 0.26, 0.23714285714285716]\n",
      "Media: 0.2663\n",
      "Desviación típica: 0.0320\n"
     ]
    }
   ],
   "source": [
    "estrategia_laplace = EstrategiaParticionado.ValidacionSimple(5, 65)\n",
    "clasificador_nb_laplace = Clasificador.ClasificadorNaiveBayes(True)\n",
    "error_laplace = clasificador_nb_laplace.validacion(estrategia_laplace,data_german,clasificador_nb_laplace)\n",
    "print(error_laplace)\n",
    "print(\"Media: %.4f\" % np.mean(error_laplace))\n",
    "print(\"Desviación típica: %.4f\" % np.std(error_laplace))\n"
   ]
  },
  {
   "cell_type": "markdown",
   "metadata": {},
   "source": [
    "<h3> Resultados SKLEARN <h3>"
   ]
  },
  {
   "cell_type": "code",
   "execution_count": 19,
   "metadata": {},
   "outputs": [
    {
     "name": "stderr",
     "output_type": "stream",
     "text": [
      "/home/tomas/anaconda3/lib/python3.7/site-packages/sklearn/preprocessing/_encoders.py:415: FutureWarning: The handling of integer data will change in version 0.22. Currently, the categories are determined based on the range [0, max(values)], while in the future they will be determined based on the unique values.\n",
      "If you want the future behaviour and silence this warning, you can specify \"categories='auto'\".\n",
      "In case you used a LabelEncoder before this OneHotEncoder to convert the categories to integers, then you can now use the OneHotEncoder directly.\n",
      "  warnings.warn(msg, FutureWarning)\n",
      "/home/tomas/anaconda3/lib/python3.7/site-packages/sklearn/preprocessing/_encoders.py:451: DeprecationWarning: The 'categorical_features' keyword is deprecated in version 0.20 and will be removed in 0.22. You can use the ColumnTransformer instead.\n",
      "  \"use the ColumnTransformer instead.\", DeprecationWarning)\n"
     ]
    }
   ],
   "source": [
    "    encAtributos = preprocessing.OneHotEncoder(categorical_features=data_german.nominalAtributos[:-1],sparse=False)\n",
    "    X = encAtributos.fit_transform(data_german.datos[:,:-1])\n",
    "    Y = data_german.datos[:,-1]\n",
    "\n",
    "    x_train, x_test, y_train, y_test = train_test_split(X,Y,test_size=0.3)"
   ]
  },
  {
   "cell_type": "markdown",
   "metadata": {},
   "source": [
    "<h4>GaussianNB<h4>\n"
   ]
  },
  {
   "cell_type": "code",
   "execution_count": 20,
   "metadata": {},
   "outputs": [
    {
     "name": "stdout",
     "output_type": "stream",
     "text": [
      "Tasa de error: 0.2667\n"
     ]
    }
   ],
   "source": [
    "clf = GaussianNB()\n",
    "clf.fit(x_train, y_train)\n",
    "errores_gaussian = 1 - clf.score(x_test,y_test)\n",
    "print(\"Tasa de error: %.4f\" % errores_gaussian)"
   ]
  },
  {
   "cell_type": "markdown",
   "metadata": {},
   "source": [
    "<h4> MultinomialNB <h4>\n"
   ]
  },
  {
   "cell_type": "code",
   "execution_count": 21,
   "metadata": {},
   "outputs": [
    {
     "name": "stdout",
     "output_type": "stream",
     "text": [
      "Tasa de error: 0.3500\n"
     ]
    }
   ],
   "source": [
    "clf = MultinomialNB()\n",
    "clf.fit(x_train, y_train)\n",
    "errores_multinomial = 1 - clf.score(x_test,y_test)\n",
    "print(\"Tasa de error: %.4f\" % errores_multinomial)"
   ]
  },
  {
   "cell_type": "code",
   "execution_count": 22,
   "metadata": {},
   "outputs": [],
   "source": [
    "#Guardamos todo en una  tabla\n",
    "tabla_vs_ger = \"<table><tr><th>Nuestro NB (sin laplace)</th><th>Nuestro NB (con laplace)</th><th>Sklearn GaussianNB</th><th>Sklearn MultinomialNB</th></tr>\"\n",
    "tabla_vs_ger += \"<tr><td>%.4f ± %.4f</td>\" % (np.mean(error),np.std(error))\n",
    "tabla_vs_ger += \"<td>%.4f ± %.4f</td>\" % (np.mean(error_laplace),np.std(error_laplace))\n",
    "tabla_vs_ger += \"<td>%.4f</td>\" % (errores_gaussian)\n",
    "tabla_vs_ger += \"<td>%.4f</td></tr></table>\" % (errores_multinomial)"
   ]
  },
  {
   "cell_type": "markdown",
   "metadata": {},
   "source": [
    "<h3> Lenses sin la correccion de Laplace <h3>"
   ]
  },
  {
   "cell_type": "code",
   "execution_count": 23,
   "metadata": {},
   "outputs": [
    {
     "name": "stdout",
     "output_type": "stream",
     "text": [
      "[0.4444444444444444, 0.3333333333333333, 0.0, 0.1111111111111111, 0.4444444444444444]\n",
      "Media: 0.2667\n",
      "Desviación típica: 0.1805\n"
     ]
    },
    {
     "name": "stderr",
     "output_type": "stream",
     "text": [
      "/home/tomas/Clasificador.py:112: RuntimeWarning: invalid value encountered in double_scalars\n",
      "  tabla[i][j]/=cont[j]\n"
     ]
    }
   ],
   "source": [
    "estrategia = EstrategiaParticionado.ValidacionSimple(5, 65)\n",
    "clasificador_nb = Clasificador.ClasificadorNaiveBayes(False)\n",
    "error = clasificador_nb.validacion(estrategia,data_lenses,clasificador_nb)\n",
    "print(error)\n",
    "print(\"Media: %.4f\" % np.mean(error))\n",
    "print(\"Desviación típica: %.4f\" % np.std(error))"
   ]
  },
  {
   "cell_type": "markdown",
   "metadata": {},
   "source": [
    "<h3> Lenses con la correccion de Laplace <h3>"
   ]
  },
  {
   "cell_type": "code",
   "execution_count": 24,
   "metadata": {},
   "outputs": [
    {
     "name": "stdout",
     "output_type": "stream",
     "text": [
      "[0.0, 0.0, 0.2222222222222222, 0.1111111111111111, 0.4444444444444444]\n",
      "Media: 0.1556\n",
      "Desviación típica: 0.1663\n"
     ]
    }
   ],
   "source": [
    "estrategia_laplace = EstrategiaParticionado.ValidacionSimple(5, 65)\n",
    "clasificador_nb_laplace = Clasificador.ClasificadorNaiveBayes(True)\n",
    "error_laplace = clasificador_nb_laplace.validacion(estrategia_laplace,data_lenses,clasificador_nb_laplace)\n",
    "print(error_laplace)\n",
    "print(\"Media: %.4f\" % np.mean(error_laplace))\n",
    "print(\"Desviación típica: %.4f\" % np.std(error_laplace))\n"
   ]
  },
  {
   "cell_type": "markdown",
   "metadata": {},
   "source": [
    "<h3> Resultados SKLEARN <h3>"
   ]
  },
  {
   "cell_type": "code",
   "execution_count": 25,
   "metadata": {},
   "outputs": [
    {
     "name": "stderr",
     "output_type": "stream",
     "text": [
      "/home/tomas/anaconda3/lib/python3.7/site-packages/sklearn/preprocessing/_encoders.py:415: FutureWarning: The handling of integer data will change in version 0.22. Currently, the categories are determined based on the range [0, max(values)], while in the future they will be determined based on the unique values.\n",
      "If you want the future behaviour and silence this warning, you can specify \"categories='auto'\".\n",
      "In case you used a LabelEncoder before this OneHotEncoder to convert the categories to integers, then you can now use the OneHotEncoder directly.\n",
      "  warnings.warn(msg, FutureWarning)\n",
      "/home/tomas/anaconda3/lib/python3.7/site-packages/sklearn/preprocessing/_encoders.py:451: DeprecationWarning: The 'categorical_features' keyword is deprecated in version 0.20 and will be removed in 0.22. You can use the ColumnTransformer instead.\n",
      "  \"use the ColumnTransformer instead.\", DeprecationWarning)\n"
     ]
    }
   ],
   "source": [
    "# Encode categorical integer features using a one-hot aka one-of-K scheme (categorical features)\n",
    "encAtributos = preprocessing.OneHotEncoder(categorical_features=data_lenses.nominalAtributos[:-1],sparse=False)\n",
    "X = encAtributos.fit_transform(data_lenses.datos[:,:-1])\n",
    "Y = data_lenses.datos[:,-1]\n",
    "x_train, x_test, y_train, y_test = train_test_split(X,Y,test_size=0.3)"
   ]
  },
  {
   "cell_type": "markdown",
   "metadata": {},
   "source": [
    "<h4>GaussianNB<h4>"
   ]
  },
  {
   "cell_type": "code",
   "execution_count": 26,
   "metadata": {},
   "outputs": [
    {
     "name": "stdout",
     "output_type": "stream",
     "text": [
      "Tasa de error: 0.5000\n"
     ]
    }
   ],
   "source": [
    "clf = GaussianNB()\n",
    "clf.fit(x_train, y_train)\n",
    "errores_gaussian = 1 - clf.score(x_test,y_test)\n",
    "print(\"Tasa de error: %.4f\" % errores_gaussian)"
   ]
  },
  {
   "cell_type": "markdown",
   "metadata": {},
   "source": [
    "<h4>MultinomialNB<h4>\n"
   ]
  },
  {
   "cell_type": "code",
   "execution_count": 27,
   "metadata": {},
   "outputs": [
    {
     "name": "stdout",
     "output_type": "stream",
     "text": [
      "Tasa de error: 0.3750\n"
     ]
    }
   ],
   "source": [
    "clf = MultinomialNB()\n",
    "clf.fit(x_train, y_train)\n",
    "errores_multinomial = 1 - clf.score(x_test,y_test)\n",
    "print(\"Tasa de error: %.4f\" % errores_multinomial)"
   ]
  },
  {
   "cell_type": "code",
   "execution_count": 28,
   "metadata": {},
   "outputs": [],
   "source": [
    "#Guardamos todo en una  tabla\n",
    "tabla_vs_len = \"<table><tr><th>Nuestro NB (sin laplace)</th><th>Nuestro NB (con laplace)</th><th>Sklearn GaussianNB</th><th>Sklearn MultinomialNB</th></tr>\"\n",
    "tabla_vs_len += \"<tr><td>%.4f ± %.4f</td>\" % (np.mean(error),np.std(error))\n",
    "tabla_vs_len += \"<td>%.4f ± %.4f</td>\" % (np.mean(error_laplace),np.std(error_laplace))\n",
    "tabla_vs_len += \"<td>%.4f</td>\" % (errores_gaussian)\n",
    "tabla_vs_len += \"<td>%.4f</td></tr></table>\" % (errores_multinomial)"
   ]
  },
  {
   "cell_type": "markdown",
   "metadata": {},
   "source": [
    "<h3> Validacion Cruzada <h3>\n",
    "    \n",
    "<h3> Tic tac toe sin la correcion de la place <h3>"
   ]
  },
  {
   "cell_type": "code",
   "execution_count": 29,
   "metadata": {},
   "outputs": [
    {
     "name": "stdout",
     "output_type": "stream",
     "text": [
      "[0.4444444444444444, 0.3333333333333333, 0.0, 0.1111111111111111, 0.4444444444444444]\n",
      "Media: 0.2667\n",
      "Desviación típica: 0.1805\n"
     ]
    }
   ],
   "source": [
    "estrategia = EstrategiaParticionado.ValidacionCruzada(10)\n",
    "clasificador_nb = Clasificador.ClasificadorNaiveBayes(False)\n",
    "errors = clasificador_nb.validacion(estrategia,data_tic,clasificador_nb)\n",
    "print(error)\n",
    "print(\"Media: %.4f\" % np.mean(error))\n",
    "print(\"Desviación típica: %.4f\" % np.std(error))"
   ]
  },
  {
   "cell_type": "markdown",
   "metadata": {},
   "source": [
    "<h3> Tic tac toe con la correcion de la place <h3>"
   ]
  },
  {
   "cell_type": "code",
   "execution_count": 30,
   "metadata": {},
   "outputs": [
    {
     "name": "stdout",
     "output_type": "stream",
     "text": [
      "[0.23958333333333334, 0.2916666666666667, 0.23958333333333334, 0.3229166666666667, 0.3020833333333333, 0.2916666666666667, 0.3125, 0.28125, 0.25, 0.3020833333333333]\n",
      "Media: 0.2833\n",
      "Desviación típica: 0.0286\n"
     ]
    }
   ],
   "source": [
    "estrategia_laplace = EstrategiaParticionado.ValidacionCruzada(10)\n",
    "clasificador_nb_laplace = Clasificador.ClasificadorNaiveBayes(True)\n",
    "error_laplace = clasificador_nb_laplace.validacion(estrategia_laplace,data_tic,clasificador_nb_laplace)\n",
    "\n",
    "print(error_laplace)\n",
    "print(\"Media: %.4f\" % np.mean(error_laplace))\n",
    "print(\"Desviación típica: %.4f\" % np.std(error_laplace))"
   ]
  },
  {
   "cell_type": "markdown",
   "metadata": {},
   "source": [
    "<h3> Resultados SKLEARN <h3>"
   ]
  },
  {
   "cell_type": "code",
   "execution_count": 31,
   "metadata": {},
   "outputs": [
    {
     "name": "stderr",
     "output_type": "stream",
     "text": [
      "/home/tomas/anaconda3/lib/python3.7/site-packages/sklearn/preprocessing/_encoders.py:415: FutureWarning: The handling of integer data will change in version 0.22. Currently, the categories are determined based on the range [0, max(values)], while in the future they will be determined based on the unique values.\n",
      "If you want the future behaviour and silence this warning, you can specify \"categories='auto'\".\n",
      "In case you used a LabelEncoder before this OneHotEncoder to convert the categories to integers, then you can now use the OneHotEncoder directly.\n",
      "  warnings.warn(msg, FutureWarning)\n",
      "/home/tomas/anaconda3/lib/python3.7/site-packages/sklearn/preprocessing/_encoders.py:451: DeprecationWarning: The 'categorical_features' keyword is deprecated in version 0.20 and will be removed in 0.22. You can use the ColumnTransformer instead.\n",
      "  \"use the ColumnTransformer instead.\", DeprecationWarning)\n"
     ]
    }
   ],
   "source": [
    "# Encode categorical integer features using a one-hot aka one-of-K scheme (categorical features)\n",
    "encAtributos = preprocessing.OneHotEncoder(categorical_features=data_tic.nominalAtributos[:-1],sparse=False)\n",
    "X = encAtributos.fit_transform(data_tic.datos[:,:-1])\n",
    "Y = data_tic.datos[:,-1]\n",
    "x_train, x_test, y_train, y_test = train_test_split(X,Y,test_size=0.3)"
   ]
  },
  {
   "cell_type": "markdown",
   "metadata": {},
   "source": [
    "<h4>GaussianNB<h4>"
   ]
  },
  {
   "cell_type": "code",
   "execution_count": 32,
   "metadata": {},
   "outputs": [
    {
     "name": "stdout",
     "output_type": "stream",
     "text": [
      "Media: 0.3775\n",
      "Desviación típica: 0.0960\n"
     ]
    }
   ],
   "source": [
    "clf = GaussianNB()\n",
    "aciertos = cross_val_score(clf,X,Y,cv=10)\n",
    "errores_gaussian = []\n",
    "for a in aciertos:\n",
    "    errores_gaussian.append(1 - a)\n",
    "print(\"Media: %.4f\" % np.mean(errores_gaussian))\n",
    "print(\"Desviación típica: %.4f\" % np.std(errores_gaussian))\n"
   ]
  },
  {
   "cell_type": "markdown",
   "metadata": {},
   "source": [
    "<h4>MultinomialNB<h4>"
   ]
  },
  {
   "cell_type": "code",
   "execution_count": 33,
   "metadata": {},
   "outputs": [
    {
     "name": "stdout",
     "output_type": "stream",
     "text": [
      "Media: 0.3349\n",
      "Desviación típica: 0.0877\n"
     ]
    }
   ],
   "source": [
    "clf = MultinomialNB()\n",
    "aciertos = cross_val_score(clf,X,Y,cv=10)\n",
    "errores_multinomial = []\n",
    "for a in aciertos:\n",
    "    errores_multinomial.append(1 - a)\n",
    "print(\"Media: %.4f\" % np.mean(errores_multinomial))\n",
    "print(\"Desviación típica: %.4f\" % np.std(errores_multinomial))"
   ]
  },
  {
   "cell_type": "code",
   "execution_count": 34,
   "metadata": {},
   "outputs": [],
   "source": [
    "#Guardamos todo en una  tabla\n",
    "tabla_vc_tic = \"<table><tr><th>Nuestro NB (sin laplace)</th><th>Nuestro NB (con laplace)</th><th>Sklearn GaussianNB</th><th>Sklearn MultinomialNB</th></tr>\"\n",
    "tabla_vc_tic += \"<tr><td>%.4f ± %.4f</td>\" % (np.mean(error),np.std(error))\n",
    "tabla_vc_tic += \"<td>%.4f ± %.4f</td>\" % (np.mean(error_laplace),np.std(error_laplace))\n",
    "tabla_vc_tic += \"<td>%.4f ± %.4f</td>\" % (np.mean(errores_gaussian),np.std(errores_gaussian))\n",
    "tabla_vc_tic += \"<td>%.4f ± %.4f</td></tr></table>\" % (np.mean(errores_multinomial),np.std(errores_multinomial))"
   ]
  },
  {
   "cell_type": "markdown",
   "metadata": {},
   "source": [
    "<h3> German sin la correcion de la place <h3>"
   ]
  },
  {
   "cell_type": "code",
   "execution_count": 35,
   "metadata": {},
   "outputs": [
    {
     "name": "stdout",
     "output_type": "stream",
     "text": [
      "[0.28, 0.28, 0.28, 0.21, 0.34, 0.22, 0.22, 0.31, 0.27, 0.3]\n",
      "Media: 0.2710\n",
      "Desviación típica: 0.0404\n"
     ]
    }
   ],
   "source": [
    "estrategia = EstrategiaParticionado.ValidacionCruzada(10)\n",
    "clasificador_nb = Clasificador.ClasificadorNaiveBayes(False)\n",
    "error = clasificador_nb.validacion(estrategia,data_german,clasificador_nb)\n",
    "print(error)\n",
    "print(\"Media: %.4f\" % np.mean(error))\n",
    "print(\"Desviación típica: %.4f\" % np.std(error))"
   ]
  },
  {
   "cell_type": "markdown",
   "metadata": {},
   "source": [
    "<h3> German con la correcion de la place <h3>"
   ]
  },
  {
   "cell_type": "code",
   "execution_count": 36,
   "metadata": {},
   "outputs": [
    {
     "name": "stdout",
     "output_type": "stream",
     "text": [
      "[0.32, 0.27, 0.21, 0.27, 0.32, 0.22, 0.37, 0.23, 0.24, 0.25]\n",
      "Media: 0.2700\n",
      "Desviación típica: 0.0490\n"
     ]
    }
   ],
   "source": [
    "estrategia_laplace = EstrategiaParticionado.ValidacionCruzada(10)\n",
    "clasificador_nb_laplace = Clasificador.ClasificadorNaiveBayes(True)\n",
    "error_laplace = clasificador_nb_laplace.validacion(estrategia_laplace,data_german,clasificador_nb_laplace)\n",
    "\n",
    "print(error_laplace)\n",
    "print(\"Media: %.4f\" % np.mean(error_laplace))\n",
    "print(\"Desviación típica: %.4f\" % np.std(error_laplace))"
   ]
  },
  {
   "cell_type": "markdown",
   "metadata": {},
   "source": [
    "<h3> Resultados SKLEARN <h3>"
   ]
  },
  {
   "cell_type": "code",
   "execution_count": 37,
   "metadata": {},
   "outputs": [
    {
     "name": "stderr",
     "output_type": "stream",
     "text": [
      "/home/tomas/anaconda3/lib/python3.7/site-packages/sklearn/preprocessing/_encoders.py:415: FutureWarning: The handling of integer data will change in version 0.22. Currently, the categories are determined based on the range [0, max(values)], while in the future they will be determined based on the unique values.\n",
      "If you want the future behaviour and silence this warning, you can specify \"categories='auto'\".\n",
      "In case you used a LabelEncoder before this OneHotEncoder to convert the categories to integers, then you can now use the OneHotEncoder directly.\n",
      "  warnings.warn(msg, FutureWarning)\n",
      "/home/tomas/anaconda3/lib/python3.7/site-packages/sklearn/preprocessing/_encoders.py:451: DeprecationWarning: The 'categorical_features' keyword is deprecated in version 0.20 and will be removed in 0.22. You can use the ColumnTransformer instead.\n",
      "  \"use the ColumnTransformer instead.\", DeprecationWarning)\n"
     ]
    }
   ],
   "source": [
    "# Encode categorical integer features using a one-hot aka one-of-K scheme (categorical features)\n",
    "encAtributos = preprocessing.OneHotEncoder(categorical_features=data_german.nominalAtributos[:-1],sparse=False)\n",
    "X = encAtributos.fit_transform(data_german.datos[:,:-1])\n",
    "Y = data_german.datos[:,-1]\n",
    "x_train, x_test, y_train, y_test = train_test_split(X,Y,test_size=0.3)"
   ]
  },
  {
   "cell_type": "markdown",
   "metadata": {},
   "source": [
    "<h4>GaussianNB<h4>"
   ]
  },
  {
   "cell_type": "code",
   "execution_count": 38,
   "metadata": {},
   "outputs": [
    {
     "name": "stdout",
     "output_type": "stream",
     "text": [
      "Media: 0.2860\n",
      "Desviación típica: 0.0341\n"
     ]
    }
   ],
   "source": [
    "clf = GaussianNB()\n",
    "aciertos = cross_val_score(clf,X,Y,cv=10)\n",
    "errores_gaussian = []\n",
    "for a in aciertos:\n",
    "    errores_gaussian.append(1 - a)\n",
    "print(\"Media: %.4f\" % np.mean(errores_gaussian))\n",
    "print(\"Desviación típica: %.4f\" % np.std(errores_gaussian))\n"
   ]
  },
  {
   "cell_type": "markdown",
   "metadata": {},
   "source": [
    "<h4>MultinomialNB<h4>"
   ]
  },
  {
   "cell_type": "code",
   "execution_count": 39,
   "metadata": {},
   "outputs": [
    {
     "name": "stdout",
     "output_type": "stream",
     "text": [
      "Media: 0.3650\n",
      "Desviación típica: 0.0633\n"
     ]
    }
   ],
   "source": [
    "clf = MultinomialNB()\n",
    "aciertos = cross_val_score(clf,X,Y,cv=10)\n",
    "errores_multinomial = []\n",
    "for a in aciertos:\n",
    "    errores_multinomial.append(1 - a)\n",
    "print(\"Media: %.4f\" % np.mean(errores_multinomial))\n",
    "print(\"Desviación típica: %.4f\" % np.std(errores_multinomial))"
   ]
  },
  {
   "cell_type": "code",
   "execution_count": 40,
   "metadata": {},
   "outputs": [],
   "source": [
    "#Guardamos todo en una  tabla\n",
    "tabla_vc_ger = \"<table><tr><th>Nuestro NB (sin laplace)</th><th>Nuestro NB (con laplace)</th><th>Sklearn GaussianNB</th><th>Sklearn MultinomialNB</th></tr>\"\n",
    "tabla_vc_ger += \"<tr><td>%.4f ± %.4f</td>\" % (np.mean(error),np.std(error))\n",
    "tabla_vc_ger += \"<td>%.4f ± %.4f</td>\" % (np.mean(error_laplace),np.std(error_laplace))\n",
    "tabla_vc_ger += \"<td>%.4f ± %.4f</td>\" % (np.mean(errores_gaussian),np.std(errores_gaussian))\n",
    "tabla_vc_ger += \"<td>%.4f ± %.4f</td></tr></table>\" % (np.mean(errores_multinomial),np.std(errores_multinomial))"
   ]
  },
  {
   "cell_type": "markdown",
   "metadata": {},
   "source": [
    "<h3> Lenses sin la correcion de la place <h3>"
   ]
  },
  {
   "cell_type": "code",
   "execution_count": 41,
   "metadata": {},
   "outputs": [
    {
     "name": "stdout",
     "output_type": "stream",
     "text": [
      "[0.6666666666666666, 0.0, 0.0, 0.3333333333333333, 0.0, 0.0, 0.3333333333333333, 0.0, 0.0, 0.0]\n",
      "Media: 0.1333\n",
      "Desviación típica: 0.2211\n"
     ]
    }
   ],
   "source": [
    "estrategia = EstrategiaParticionado.ValidacionCruzada(10)\n",
    "clasificador_nb = Clasificador.ClasificadorNaiveBayes(False)\n",
    "error = clasificador_nb.validacion(estrategia,data_lenses,clasificador_nb)\n",
    "print(error)\n",
    "print(\"Media: %.4f\" % np.mean(error))\n",
    "print(\"Desviación típica: %.4f\" % np.std(error))"
   ]
  },
  {
   "cell_type": "markdown",
   "metadata": {},
   "source": [
    "<h3> Lenses con la correcion de la place <h3>"
   ]
  },
  {
   "cell_type": "code",
   "execution_count": 42,
   "metadata": {},
   "outputs": [
    {
     "name": "stdout",
     "output_type": "stream",
     "text": [
      "[0.0, 0.3333333333333333, 0.0, 0.0, 0.0, 0.0, 0.0, 0.3333333333333333, 0.0, 0.0]\n",
      "Media: 0.0667\n",
      "Desviación típica: 0.1333\n"
     ]
    }
   ],
   "source": [
    "estrategia_laplace = EstrategiaParticionado.ValidacionCruzada(10)\n",
    "clasificador_nb_laplace = Clasificador.ClasificadorNaiveBayes(True)\n",
    "error_laplace = clasificador_nb_laplace.validacion(estrategia_laplace,data_lenses,clasificador_nb_laplace)\n",
    "\n",
    "print(error_laplace)\n",
    "print(\"Media: %.4f\" % np.mean(error_laplace))\n",
    "print(\"Desviación típica: %.4f\" % np.std(error_laplace))"
   ]
  },
  {
   "cell_type": "markdown",
   "metadata": {},
   "source": [
    "<h3> Resultados SKLEARN <h3>"
   ]
  },
  {
   "cell_type": "code",
   "execution_count": 43,
   "metadata": {},
   "outputs": [
    {
     "name": "stderr",
     "output_type": "stream",
     "text": [
      "/home/tomas/anaconda3/lib/python3.7/site-packages/sklearn/preprocessing/_encoders.py:415: FutureWarning: The handling of integer data will change in version 0.22. Currently, the categories are determined based on the range [0, max(values)], while in the future they will be determined based on the unique values.\n",
      "If you want the future behaviour and silence this warning, you can specify \"categories='auto'\".\n",
      "In case you used a LabelEncoder before this OneHotEncoder to convert the categories to integers, then you can now use the OneHotEncoder directly.\n",
      "  warnings.warn(msg, FutureWarning)\n",
      "/home/tomas/anaconda3/lib/python3.7/site-packages/sklearn/preprocessing/_encoders.py:451: DeprecationWarning: The 'categorical_features' keyword is deprecated in version 0.20 and will be removed in 0.22. You can use the ColumnTransformer instead.\n",
      "  \"use the ColumnTransformer instead.\", DeprecationWarning)\n"
     ]
    }
   ],
   "source": [
    "# Encode categorical integer features using a one-hot aka one-of-K scheme (categorical features)\n",
    "encAtributos = preprocessing.OneHotEncoder(categorical_features=data_lenses.nominalAtributos[:-1],sparse=False)\n",
    "X = encAtributos.fit_transform(data_lenses.datos[:,:-1])\n",
    "Y = data_lenses.datos[:,-1]\n",
    "x_train, x_test, y_train, y_test = train_test_split(X,Y,test_size=0.3)"
   ]
  },
  {
   "cell_type": "markdown",
   "metadata": {},
   "source": [
    "<h4>GaussianNB<h4>"
   ]
  },
  {
   "cell_type": "code",
   "execution_count": 44,
   "metadata": {},
   "outputs": [
    {
     "name": "stderr",
     "output_type": "stream",
     "text": [
      "/home/tomas/anaconda3/lib/python3.7/site-packages/sklearn/model_selection/_split.py:657: Warning: The least populated class in y has only 4 members, which is too few. The minimum number of members in any class cannot be less than n_splits=10.\n",
      "  % (min_groups, self.n_splits)), Warning)\n"
     ]
    },
    {
     "name": "stdout",
     "output_type": "stream",
     "text": [
      "Media: 0.3417\n",
      "Desviación típica: 0.3827\n"
     ]
    }
   ],
   "source": [
    "clf = GaussianNB()\n",
    "aciertos = cross_val_score(clf,X,Y,cv=10)\n",
    "errores_gaussian = []\n",
    "for a in aciertos:\n",
    "    errores_gaussian.append(1 - a)\n",
    "print(\"Media: %.4f\" % np.mean(errores_gaussian))\n",
    "print(\"Desviación típica: %.4f\" % np.std(errores_gaussian))\n"
   ]
  },
  {
   "cell_type": "markdown",
   "metadata": {},
   "source": [
    "<h4>MultinomialNB<h4>"
   ]
  },
  {
   "cell_type": "code",
   "execution_count": 45,
   "metadata": {},
   "outputs": [
    {
     "name": "stdout",
     "output_type": "stream",
     "text": [
      "Media: 0.3167\n",
      "Desviación típica: 0.3958\n"
     ]
    },
    {
     "name": "stderr",
     "output_type": "stream",
     "text": [
      "/home/tomas/anaconda3/lib/python3.7/site-packages/sklearn/model_selection/_split.py:657: Warning: The least populated class in y has only 4 members, which is too few. The minimum number of members in any class cannot be less than n_splits=10.\n",
      "  % (min_groups, self.n_splits)), Warning)\n"
     ]
    }
   ],
   "source": [
    "clf = MultinomialNB()\n",
    "aciertos = cross_val_score(clf,X,Y,cv=10)\n",
    "errores_multinomial = []\n",
    "for a in aciertos:\n",
    "    errores_multinomial.append(1 - a)\n",
    "print(\"Media: %.4f\" % np.mean(errores_multinomial))\n",
    "print(\"Desviación típica: %.4f\" % np.std(errores_multinomial))"
   ]
  },
  {
   "cell_type": "code",
   "execution_count": 46,
   "metadata": {},
   "outputs": [],
   "source": [
    "#Guardamos todo en una  tabla\n",
    "tabla_vc_len = \"<table><tr><th>Nuestro NB (sin laplace)</th><th>Nuestro NB (con laplace)</th><th>Sklearn GaussianNB</th><th>Sklearn MultinomialNB</th></tr>\"\n",
    "tabla_vc_len += \"<tr><td>%.4f ± %.4f</td>\" % (np.mean(error),np.std(error))\n",
    "tabla_vc_len += \"<td>%.4f ± %.4f</td>\" % (np.mean(error_laplace),np.std(error_laplace))\n",
    "tabla_vc_len += \"<td>%.4f ± %.4f</td>\" % (np.mean(errores_gaussian),np.std(errores_gaussian))\n",
    "tabla_vc_len += \"<td>%.4f ± %.4f</td></tr></table>\" % (np.mean(errores_multinomial),np.std(errores_multinomial))"
   ]
  },
  {
   "cell_type": "markdown",
   "metadata": {},
   "source": [
    "<h2> Analisis de los datos <h2>\n",
    "    \n",
    "<h3> Validacion Simple <h3>\n",
    "    \n",
    "<h4> Tic Tac Toe <h4>\n",
    "    "
   ]
  },
  {
   "cell_type": "code",
   "execution_count": 47,
   "metadata": {},
   "outputs": [
    {
     "data": {
      "text/html": [
       "<table><tr><th>Nuestro NB (sin laplace)</th><th>Nuestro NB (con laplace)</th><th>Sklearn GaussianNB</th><th>Sklearn MultinomialNB</th></tr><tr><td>0.2994 ± 0.0097</td><td>0.2780 ± 0.0158</td><td>0.3160</td><td>0.3160</td></tr></table>"
      ],
      "text/plain": [
       "<IPython.core.display.HTML object>"
      ]
     },
     "metadata": {},
     "output_type": "display_data"
    }
   ],
   "source": [
    "display(HTML(tabla_vs_tic))"
   ]
  },
  {
   "cell_type": "markdown",
   "metadata": {},
   "source": [
    "<h4>German</h4>"
   ]
  },
  {
   "cell_type": "code",
   "execution_count": 48,
   "metadata": {},
   "outputs": [
    {
     "data": {
      "text/html": [
       "<table><tr><th>Nuestro NB (sin laplace)</th><th>Nuestro NB (con laplace)</th><th>Sklearn GaussianNB</th><th>Sklearn MultinomialNB</th></tr><tr><td>0.2634 ± 0.0168</td><td>0.2663 ± 0.0320</td><td>0.2667</td><td>0.3500</td></tr></table>"
      ],
      "text/plain": [
       "<IPython.core.display.HTML object>"
      ]
     },
     "metadata": {},
     "output_type": "display_data"
    }
   ],
   "source": [
    "display(HTML(tabla_vs_ger))"
   ]
  },
  {
   "cell_type": "markdown",
   "metadata": {},
   "source": [
    "<h4>Lenses</h4>"
   ]
  },
  {
   "cell_type": "code",
   "execution_count": 49,
   "metadata": {},
   "outputs": [
    {
     "data": {
      "text/html": [
       "<table><tr><th>Nuestro NB (sin laplace)</th><th>Nuestro NB (con laplace)</th><th>Sklearn GaussianNB</th><th>Sklearn MultinomialNB</th></tr><tr><td>0.2667 ± 0.1805</td><td>0.1556 ± 0.1663</td><td>0.5000</td><td>0.3750</td></tr></table>"
      ],
      "text/plain": [
       "<IPython.core.display.HTML object>"
      ]
     },
     "metadata": {},
     "output_type": "display_data"
    }
   ],
   "source": [
    "display(HTML(tabla_vs_len))"
   ]
  },
  {
   "cell_type": "markdown",
   "metadata": {},
   "source": [
    "<h3>Validacion cruzada</h3>\n",
    "\n",
    "<h4>Tic tac toe</h4>"
   ]
  },
  {
   "cell_type": "code",
   "execution_count": 50,
   "metadata": {},
   "outputs": [
    {
     "data": {
      "text/html": [
       "<table><tr><th>Nuestro NB (sin laplace)</th><th>Nuestro NB (con laplace)</th><th>Sklearn GaussianNB</th><th>Sklearn MultinomialNB</th></tr><tr><td>0.2667 ± 0.1805</td><td>0.2833 ± 0.0286</td><td>0.3775 ± 0.0960</td><td>0.3349 ± 0.0877</td></tr></table>"
      ],
      "text/plain": [
       "<IPython.core.display.HTML object>"
      ]
     },
     "metadata": {},
     "output_type": "display_data"
    }
   ],
   "source": [
    "display(HTML(tabla_vc_tic))"
   ]
  },
  {
   "cell_type": "markdown",
   "metadata": {},
   "source": [
    "<h4>German</h4>"
   ]
  },
  {
   "cell_type": "code",
   "execution_count": 51,
   "metadata": {},
   "outputs": [
    {
     "data": {
      "text/html": [
       "<table><tr><th>Nuestro NB (sin laplace)</th><th>Nuestro NB (con laplace)</th><th>Sklearn GaussianNB</th><th>Sklearn MultinomialNB</th></tr><tr><td>0.2710 ± 0.0404</td><td>0.2700 ± 0.0490</td><td>0.2860 ± 0.0341</td><td>0.3650 ± 0.0633</td></tr></table>"
      ],
      "text/plain": [
       "<IPython.core.display.HTML object>"
      ]
     },
     "metadata": {},
     "output_type": "display_data"
    }
   ],
   "source": [
    "display(HTML(tabla_vc_ger))"
   ]
  },
  {
   "cell_type": "markdown",
   "metadata": {},
   "source": [
    "<h4>Lenses</h4>"
   ]
  },
  {
   "cell_type": "code",
   "execution_count": 52,
   "metadata": {},
   "outputs": [
    {
     "data": {
      "text/html": [
       "<table><tr><th>Nuestro NB (sin laplace)</th><th>Nuestro NB (con laplace)</th><th>Sklearn GaussianNB</th><th>Sklearn MultinomialNB</th></tr><tr><td>0.1333 ± 0.2211</td><td>0.0667 ± 0.1333</td><td>0.3417 ± 0.3827</td><td>0.3167 ± 0.3958</td></tr></table>"
      ],
      "text/plain": [
       "<IPython.core.display.HTML object>"
      ]
     },
     "metadata": {},
     "output_type": "display_data"
    }
   ],
   "source": [
    "display(HTML(tabla_vc_len))"
   ]
  },
  {
   "cell_type": "markdown",
   "metadata": {},
   "source": [
    "Los resultados obtenidos son muy similares a los de las funciones implementadas en la libreria sklearn (GaussianNB y MultinomialNB).\n",
    "La unica diferencia notable la podemos encontrar en la ejecucion de validacion cruzada con los datos lenses.data, en la que nuestro error es notablemente menor que el de las librerias sklearn. Creemos que esto se puede deber a que la ejecucion ha sido muy positiva, ya que en el resto de situaciones los errores son parecidos.\n",
    "\n",
    "<h2>Curvas ROC</h2>\n",
    "\n",
    "Una curva ROC no es mas que una medicion de la precision de un clasificador.\n",
    "\n",
    "<h3>Tic tac toe</h3>\n",
    "\n",
    "<h4>Validacion simple</h4>\n",
    "\n"
   ]
  },
  {
   "cell_type": "code",
   "execution_count": 53,
   "metadata": {},
   "outputs": [
    {
     "data": {
      "image/png": "[encoded data removed]",
      "text/plain": [
       "<Figure size 432x288 with 1 Axes>"
      ]
     },
     "metadata": {
      "needs_background": "light"
     },
     "output_type": "display_data"
    },
    {
     "data": {
      "image/png": "[encoded data removed]",
      "text/plain": [
       "<Figure size 432x288 with 1 Axes>"
      ]
     },
     "metadata": {
      "needs_background": "light"
     },
     "output_type": "display_data"
    }
   ],
   "source": [
    "roc, roc_lp = roc_valsimple(data_tic)"
   ]
  },
  {
   "cell_type": "markdown",
   "metadata": {},
   "source": [
    "Sin laplace"
   ]
  },
  {
   "cell_type": "code",
   "execution_count": 54,
   "metadata": {},
   "outputs": [
    {
     "data": {
      "text/html": [
       "<table><tr><th>Matriz</th><th>de confusión</th></tr><tr><td>265</td><td>344</td></tr><tr><td>118</td><td>953</td></tr></table>"
      ],
      "text/plain": [
       "<IPython.core.display.HTML object>"
      ]
     },
     "metadata": {},
     "output_type": "display_data"
    }
   ],
   "source": [
    "tabla_confusion = \"<table><tr><th>Matriz</th><th>de confusión</th></tr>\"\n",
    "tabla_confusion += \"<tr><td>%ld</td><td>%ld</td></tr>\" % (roc[0,0], roc[0,1])\n",
    "tabla_confusion += \"<tr><td>%ld</td><td>%ld</td></tr></table>\" % (roc[1,0], roc[1,1])\n",
    "\n",
    "display(HTML(tabla_confusion))"
   ]
  },
  {
   "cell_type": "markdown",
   "metadata": {},
   "source": [
    "Con laplace"
   ]
  },
  {
   "cell_type": "code",
   "execution_count": 55,
   "metadata": {},
   "outputs": [
    {
     "data": {
      "text/html": [
       "<table><tr><th>Matriz</th><th>de confusión</th></tr><tr><td>264</td><td>307</td></tr><tr><td>180</td><td>929</td></tr></table>"
      ],
      "text/plain": [
       "<IPython.core.display.HTML object>"
      ]
     },
     "metadata": {},
     "output_type": "display_data"
    }
   ],
   "source": [
    "tabla_confusion = \"<table><tr><th>Matriz</th><th>de confusión</th></tr>\"\n",
    "tabla_confusion += \"<tr><td>%ld</td><td>%ld</td></tr>\" % (roc_lp[0,0], roc_lp[0,1])\n",
    "tabla_confusion += \"<tr><td>%ld</td><td>%ld</td></tr></table>\" % (roc_lp[1,0], roc_lp[1,1])\n",
    "\n",
    "display(HTML(tabla_confusion))"
   ]
  },
  {
   "cell_type": "markdown",
   "metadata": {},
   "source": [
    "<h4>Validacion cruzada</h4>"
   ]
  },
  {
   "cell_type": "code",
   "execution_count": 56,
   "metadata": {},
   "outputs": [
    {
     "data": {
      "image/png": "[encoded data removed]",
      "text/plain": [
       "<Figure size 432x288 with 1 Axes>"
      ]
     },
     "metadata": {
      "needs_background": "light"
     },
     "output_type": "display_data"
    },
    {
     "data": {
      "image/png": "[encoded data removed]",
      "text/plain": [
       "<Figure size 432x288 with 1 Axes>"
      ]
     },
     "metadata": {
      "needs_background": "light"
     },
     "output_type": "display_data"
    }
   ],
   "source": [
    "roc_c, roc_c_lp = roc_valcruzada(data_tic)"
   ]
  },
  {
   "cell_type": "markdown",
   "metadata": {},
   "source": [
    "Sin laplace"
   ]
  },
  {
   "cell_type": "code",
   "execution_count": 57,
   "metadata": {},
   "outputs": [
    {
     "data": {
      "text/html": [
       "<table><tr><th>Matriz</th><th>de confusión</th></tr><tr><td>145</td><td>187</td></tr><tr><td>86</td><td>542</td></tr></table>"
      ],
      "text/plain": [
       "<IPython.core.display.HTML object>"
      ]
     },
     "metadata": {},
     "output_type": "display_data"
    }
   ],
   "source": [
    "tabla_confusion_c = \"<table><tr><th>Matriz</th><th>de confusión</th></tr>\"\n",
    "tabla_confusion_c += \"<tr><td>%ld</td><td>%ld</td></tr>\" % (roc_c[0,0], roc_c[0,1])\n",
    "tabla_confusion_c += \"<tr><td>%ld</td><td>%ld</td></tr></table>\" % (roc_c[1,0], roc_c[1,1])\n",
    "\n",
    "display(HTML(tabla_confusion_c))"
   ]
  },
  {
   "cell_type": "markdown",
   "metadata": {},
   "source": [
    "Con laplace"
   ]
  },
  {
   "cell_type": "code",
   "execution_count": 58,
   "metadata": {},
   "outputs": [
    {
     "data": {
      "text/html": [
       "<table><tr><th>Matriz</th><th>de confusión</th></tr><tr><td>140</td><td>192</td></tr><tr><td>90</td><td>538</td></tr></table>"
      ],
      "text/plain": [
       "<IPython.core.display.HTML object>"
      ]
     },
     "metadata": {},
     "output_type": "display_data"
    }
   ],
   "source": [
    "tabla_confusion_c_lp = \"<table><tr><th>Matriz</th><th>de confusión</th></tr>\"\n",
    "tabla_confusion_c_lp += \"<tr><td>%ld</td><td>%ld</td></tr>\" % (roc_c_lp[0,0], roc_c_lp[0,1])\n",
    "tabla_confusion_c_lp += \"<tr><td>%ld</td><td>%ld</td></tr></table>\" % (roc_c_lp[1,0], roc_c_lp[1,1])\n",
    "\n",
    "display(HTML(tabla_confusion_c_lp))"
   ]
  },
  {
   "cell_type": "markdown",
   "metadata": {},
   "source": [
    "<h3>German</h3>\n",
    "\n",
    "<h4>Validacion simple</h4>"
   ]
  },
  {
   "cell_type": "code",
   "execution_count": 59,
   "metadata": {},
   "outputs": [
    {
     "data": {
      "image/png": "[encoded data removed]",
      "text/plain": [
       "<Figure size 432x288 with 1 Axes>"
      ]
     },
     "metadata": {
      "needs_background": "light"
     },
     "output_type": "display_data"
    },
    {
     "data": {
      "image/png": "[encoded data removed]",
      "text/plain": [
       "<Figure size 432x288 with 1 Axes>"
      ]
     },
     "metadata": {
      "needs_background": "light"
     },
     "output_type": "display_data"
    }
   ],
   "source": [
    "roc, roc_lp = roc_valsimple(data_german)"
   ]
  },
  {
   "cell_type": "markdown",
   "metadata": {},
   "source": [
    "Sin laplace"
   ]
  },
  {
   "cell_type": "code",
   "execution_count": 60,
   "metadata": {},
   "outputs": [
    {
     "data": {
      "text/html": [
       "<table><tr><th>Matriz</th><th>de confusión</th></tr><tr><td>1109</td><td>110</td></tr><tr><td>385</td><td>146</td></tr></table>"
      ],
      "text/plain": [
       "<IPython.core.display.HTML object>"
      ]
     },
     "metadata": {},
     "output_type": "display_data"
    }
   ],
   "source": [
    "tabla_confusion = \"<table><tr><th>Matriz</th><th>de confusión</th></tr>\"\n",
    "tabla_confusion += \"<tr><td>%ld</td><td>%ld</td></tr>\" % (roc[0,0], roc[0,1])\n",
    "tabla_confusion += \"<tr><td>%ld</td><td>%ld</td></tr></table>\" % (roc[1,0], roc[1,1])\n",
    "\n",
    "display(HTML(tabla_confusion))"
   ]
  },
  {
   "cell_type": "markdown",
   "metadata": {},
   "source": [
    "Con laplace"
   ]
  },
  {
   "cell_type": "code",
   "execution_count": 61,
   "metadata": {},
   "outputs": [
    {
     "data": {
      "text/html": [
       "<table><tr><th>Matriz</th><th>de confusión</th></tr><tr><td>1138</td><td>93</td></tr><tr><td>377</td><td>142</td></tr></table>"
      ],
      "text/plain": [
       "<IPython.core.display.HTML object>"
      ]
     },
     "metadata": {},
     "output_type": "display_data"
    }
   ],
   "source": [
    "tabla_confusion = \"<table><tr><th>Matriz</th><th>de confusión</th></tr>\"\n",
    "tabla_confusion += \"<tr><td>%ld</td><td>%ld</td></tr>\" % (roc_lp[0,0], roc_lp[0,1])\n",
    "tabla_confusion += \"<tr><td>%ld</td><td>%ld</td></tr></table>\" % (roc_lp[1,0], roc_lp[1,1])\n",
    "\n",
    "display(HTML(tabla_confusion))"
   ]
  },
  {
   "cell_type": "markdown",
   "metadata": {},
   "source": [
    "<h4>Validacion cruzada</h4>"
   ]
  },
  {
   "cell_type": "code",
   "execution_count": 62,
   "metadata": {},
   "outputs": [
    {
     "data": {
      "image/png": "[encoded data removed]",
      "text/plain": [
       "<Figure size 432x288 with 1 Axes>"
      ]
     },
     "metadata": {
      "needs_background": "light"
     },
     "output_type": "display_data"
    },
    {
     "data": {
      "image/png": "[encoded data removed]",
      "text/plain": [
       "<Figure size 432x288 with 1 Axes>"
      ]
     },
     "metadata": {
      "needs_background": "light"
     },
     "output_type": "display_data"
    }
   ],
   "source": [
    "roc_c, roc_c_lp = roc_valcruzada(data_german)"
   ]
  },
  {
   "cell_type": "markdown",
   "metadata": {},
   "source": [
    "Sin laplace"
   ]
  },
  {
   "cell_type": "code",
   "execution_count": 63,
   "metadata": {},
   "outputs": [
    {
     "data": {
      "text/html": [
       "<table><tr><th>Matriz</th><th>de confusión</th></tr><tr><td>643</td><td>57</td></tr><tr><td>215</td><td>85</td></tr></table>"
      ],
      "text/plain": [
       "<IPython.core.display.HTML object>"
      ]
     },
     "metadata": {},
     "output_type": "display_data"
    }
   ],
   "source": [
    "tabla_confusion_c = \"<table><tr><th>Matriz</th><th>de confusión</th></tr>\"\n",
    "tabla_confusion_c += \"<tr><td>%ld</td><td>%ld</td></tr>\" % (roc_c[0,0], roc_c[0,1])\n",
    "tabla_confusion_c += \"<tr><td>%ld</td><td>%ld</td></tr></table>\" % (roc_c[1,0], roc_c[1,1])\n",
    "\n",
    "display(HTML(tabla_confusion_c))"
   ]
  },
  {
   "cell_type": "markdown",
   "metadata": {},
   "source": [
    "Con laplace"
   ]
  },
  {
   "cell_type": "code",
   "execution_count": 64,
   "metadata": {},
   "outputs": [
    {
     "data": {
      "text/html": [
       "<table><tr><th>Matriz</th><th>de confusión</th></tr><tr><td>643</td><td>57</td></tr><tr><td>210</td><td>90</td></tr></table>"
      ],
      "text/plain": [
       "<IPython.core.display.HTML object>"
      ]
     },
     "metadata": {},
     "output_type": "display_data"
    }
   ],
   "source": [
    "tabla_confusion_c_lp = \"<table><tr><th>Matriz</th><th>de confusión</th></tr>\"\n",
    "tabla_confusion_c_lp += \"<tr><td>%ld</td><td>%ld</td></tr>\" % (roc_c_lp[0,0], roc_c_lp[0,1])\n",
    "tabla_confusion_c_lp += \"<tr><td>%ld</td><td>%ld</td></tr></table>\" % (roc_c_lp[1,0], roc_c_lp[1,1])\n",
    "\n",
    "display(HTML(tabla_confusion_c_lp))"
   ]
  },
  {
   "cell_type": "markdown",
   "metadata": {},
   "source": [
    "<h3>Lenses</h3>\n",
    "\n",
    "<h4>Validacion simple</h4>"
   ]
  },
  {
   "cell_type": "code",
   "execution_count": 65,
   "metadata": {},
   "outputs": [
    {
     "name": "stderr",
     "output_type": "stream",
     "text": [
      "/home/tomas/Clasificador.py:112: RuntimeWarning: invalid value encountered in double_scalars\n",
      "  tabla[i][j]/=cont[j]\n"
     ]
    },
    {
     "data": {
      "image/png": "[encoded data removed]",
      "text/plain": [
       "<Figure size 432x288 with 1 Axes>"
      ]
     },
     "metadata": {
      "needs_background": "light"
     },
     "output_type": "display_data"
    },
    {
     "data": {
      "image/png": "[encoded data removed]",
      "text/plain": [
       "<Figure size 432x288 with 1 Axes>"
      ]
     },
     "metadata": {
      "needs_background": "light"
     },
     "output_type": "display_data"
    }
   ],
   "source": [
    "roc, roc_lp = roc_valsimple(data_lenses)"
   ]
  },
  {
   "cell_type": "markdown",
   "metadata": {},
   "source": [
    "Sin laplace"
   ]
  },
  {
   "cell_type": "code",
   "execution_count": 66,
   "metadata": {},
   "outputs": [
    {
     "data": {
      "text/html": [
       "<table><tr><th>Matriz</th><th>de confusión</th></tr><tr><td>4</td><td>2</td></tr><tr><td>0</td><td>12</td></tr></table>"
      ],
      "text/plain": [
       "<IPython.core.display.HTML object>"
      ]
     },
     "metadata": {},
     "output_type": "display_data"
    }
   ],
   "source": [
    "tabla_confusion = \"<table><tr><th>Matriz</th><th>de confusión</th></tr>\"\n",
    "tabla_confusion += \"<tr><td>%ld</td><td>%ld</td></tr>\" % (roc[0,0], roc[0,1])\n",
    "tabla_confusion += \"<tr><td>%ld</td><td>%ld</td></tr></table>\" % (roc[1,0], roc[1,1])\n",
    "\n",
    "display(HTML(tabla_confusion))"
   ]
  },
  {
   "cell_type": "markdown",
   "metadata": {},
   "source": [
    "Con laplace"
   ]
  },
  {
   "cell_type": "code",
   "execution_count": 67,
   "metadata": {},
   "outputs": [
    {
     "data": {
      "text/html": [
       "<table><tr><th>Matriz</th><th>de confusión</th></tr><tr><td>1</td><td>0</td></tr><tr><td>0</td><td>8</td></tr></table>"
      ],
      "text/plain": [
       "<IPython.core.display.HTML object>"
      ]
     },
     "metadata": {},
     "output_type": "display_data"
    }
   ],
   "source": [
    "tabla_confusion = \"<table><tr><th>Matriz</th><th>de confusión</th></tr>\"\n",
    "tabla_confusion += \"<tr><td>%ld</td><td>%ld</td></tr>\" % (roc_lp[0,0], roc_lp[0,1])\n",
    "tabla_confusion += \"<tr><td>%ld</td><td>%ld</td></tr></table>\" % (roc_lp[1,0], roc_lp[1,1])\n",
    "\n",
    "display(HTML(tabla_confusion))"
   ]
  },
  {
   "cell_type": "markdown",
   "metadata": {},
   "source": [
    "<h4>Validacion cruzada</h4>"
   ]
  },
  {
   "cell_type": "code",
   "execution_count": 68,
   "metadata": {},
   "outputs": [
    {
     "data": {
      "image/png": "[encoded data removed]",
      "text/plain": [
       "<Figure size 432x288 with 1 Axes>"
      ]
     },
     "metadata": {
      "needs_background": "light"
     },
     "output_type": "display_data"
    },
    {
     "data": {
      "image/png": "[encoded data removed]",
      "text/plain": [
       "<Figure size 432x288 with 1 Axes>"
      ]
     },
     "metadata": {
      "needs_background": "light"
     },
     "output_type": "display_data"
    }
   ],
   "source": [
    "roc_c, roc_c_lp = roc_valcruzada(data_lenses)"
   ]
  },
  {
   "cell_type": "markdown",
   "metadata": {},
   "source": [
    "Sin laplace"
   ]
  },
  {
   "cell_type": "code",
   "execution_count": 69,
   "metadata": {},
   "outputs": [
    {
     "data": {
      "text/html": [
       "<table><tr><th>Matriz</th><th>de confusión</th></tr><tr><td>6</td><td>0</td></tr><tr><td>0</td><td>9</td></tr></table>"
      ],
      "text/plain": [
       "<IPython.core.display.HTML object>"
      ]
     },
     "metadata": {},
     "output_type": "display_data"
    }
   ],
   "source": [
    "tabla_confusion_c = \"<table><tr><th>Matriz</th><th>de confusión</th></tr>\"\n",
    "tabla_confusion_c += \"<tr><td>%ld</td><td>%ld</td></tr>\" % (roc_c[0,0], roc_c[0,1])\n",
    "tabla_confusion_c += \"<tr><td>%ld</td><td>%ld</td></tr></table>\" % (roc_c[1,0], roc_c[1,1])\n",
    "\n",
    "display(HTML(tabla_confusion_c))"
   ]
  },
  {
   "cell_type": "markdown",
   "metadata": {},
   "source": [
    "Con laplace"
   ]
  },
  {
   "cell_type": "code",
   "execution_count": 71,
   "metadata": {},
   "outputs": [
    {
     "data": {
      "text/html": [
       "<table><tr><th>Matriz</th><th>de confusión</th></tr><tr><td>9</td><td>0</td></tr><tr><td>1</td><td>11</td></tr></table>"
      ],
      "text/plain": [
       "<IPython.core.display.HTML object>"
      ]
     },
     "metadata": {},
     "output_type": "display_data"
    }
   ],
   "source": [
    "tabla_confusion_c_lp = \"<table><tr><th>Matriz</th><th>de confusión</th></tr>\"\n",
    "tabla_confusion_c_lp += \"<tr><td>%ld</td><td>%ld</td></tr>\" % (roc_c_lp[0,0], roc_c_lp[0,1])\n",
    "tabla_confusion_c_lp += \"<tr><td>%ld</td><td>%ld</td></tr></table>\" % (roc_c_lp[1,0], roc_c_lp[1,1])\n",
    "\n",
    "display(HTML(tabla_confusion_c_lp))"
   ]
  },
  {
   "cell_type": "markdown",
   "metadata": {},
   "source": [
    "<h3>Consideraciones</h3>\n",
    "\n",
    "Se produce un warning a la hora de utilizar las librerias de sklearn. Este no afecta a la implementacion del codigo, y al no conseguir quitarlo lo hemos dejado como estaba.\n",
    "\n",
    "<h5>Practica realizada por Tomas Higuera Viso y Alejandro Naranjo Jimenez</h5>"
   ]
  }
 ],
 "metadata": {
  "kernelspec": {
   "display_name": "Python 3",
   "language": "python",
   "name": "python3"
  },
  "language_info": {
   "codemirror_mode": {
    "name": "ipython",
    "version": 3
   },
   "file_extension": ".py",
   "mimetype": "text/x-python",
   "name": "python",
   "nbconvert_exporter": "python",
   "pygments_lexer": "ipython3",
   "version": "3.7.4"
  }
 },
 "nbformat": 4,
 "nbformat_minor": 2
}
